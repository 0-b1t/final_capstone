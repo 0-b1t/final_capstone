{
 "cells": [
  {
   "cell_type": "code",
   "execution_count": 1,
   "metadata": {},
   "outputs": [
    {
     "data": {
      "application/javascript": [
       "\n",
       "            setTimeout(function() {\n",
       "                var nbb_cell_id = 1;\n",
       "                var nbb_unformatted_code = \"%reload_ext nb_black\";\n",
       "                var nbb_formatted_code = \"%reload_ext nb_black\";\n",
       "                var nbb_cells = Jupyter.notebook.get_cells();\n",
       "                for (var i = 0; i < nbb_cells.length; ++i) {\n",
       "                    if (nbb_cells[i].input_prompt_number == nbb_cell_id) {\n",
       "                        if (nbb_cells[i].get_text() == nbb_unformatted_code) {\n",
       "                             nbb_cells[i].set_text(nbb_formatted_code);\n",
       "                        }\n",
       "                        break;\n",
       "                    }\n",
       "                }\n",
       "            }, 500);\n",
       "            "
      ],
      "text/plain": [
       "<IPython.core.display.Javascript object>"
      ]
     },
     "metadata": {},
     "output_type": "display_data"
    }
   ],
   "source": [
    "%reload_ext nb_black"
   ]
  },
  {
   "cell_type": "code",
   "execution_count": 2,
   "metadata": {},
   "outputs": [
    {
     "data": {
      "application/javascript": [
       "\n",
       "            setTimeout(function() {\n",
       "                var nbb_cell_id = 2;\n",
       "                var nbb_unformatted_code = \"import pandas as pd\";\n",
       "                var nbb_formatted_code = \"import pandas as pd\";\n",
       "                var nbb_cells = Jupyter.notebook.get_cells();\n",
       "                for (var i = 0; i < nbb_cells.length; ++i) {\n",
       "                    if (nbb_cells[i].input_prompt_number == nbb_cell_id) {\n",
       "                        if (nbb_cells[i].get_text() == nbb_unformatted_code) {\n",
       "                             nbb_cells[i].set_text(nbb_formatted_code);\n",
       "                        }\n",
       "                        break;\n",
       "                    }\n",
       "                }\n",
       "            }, 500);\n",
       "            "
      ],
      "text/plain": [
       "<IPython.core.display.Javascript object>"
      ]
     },
     "metadata": {},
     "output_type": "display_data"
    }
   ],
   "source": [
    "import pandas as pd"
   ]
  },
  {
   "cell_type": "code",
   "execution_count": 3,
   "metadata": {},
   "outputs": [
    {
     "data": {
      "application/javascript": [
       "\n",
       "            setTimeout(function() {\n",
       "                var nbb_cell_id = 3;\n",
       "                var nbb_unformatted_code = \"last_fm = pd.read_csv(\\\"../data/last_fm_artist_tags_full.csv\\\", index_col=0)\\nsp_info = pd.read_csv(\\\"../data/sp_info.csv\\\", index_col=0)\\nsp_artist = pd.read_csv(\\\"../data/spotify_artist.csv\\\", index_col=0)\\nsp_features = pd.read_csv(\\\"../data/spotify_song_features.csv\\\", index_col=0)\";\n",
       "                var nbb_formatted_code = \"last_fm = pd.read_csv(\\\"../data/last_fm_artist_tags_full.csv\\\", index_col=0)\\nsp_info = pd.read_csv(\\\"../data/sp_info.csv\\\", index_col=0)\\nsp_artist = pd.read_csv(\\\"../data/spotify_artist.csv\\\", index_col=0)\\nsp_features = pd.read_csv(\\\"../data/spotify_song_features.csv\\\", index_col=0)\";\n",
       "                var nbb_cells = Jupyter.notebook.get_cells();\n",
       "                for (var i = 0; i < nbb_cells.length; ++i) {\n",
       "                    if (nbb_cells[i].input_prompt_number == nbb_cell_id) {\n",
       "                        if (nbb_cells[i].get_text() == nbb_unformatted_code) {\n",
       "                             nbb_cells[i].set_text(nbb_formatted_code);\n",
       "                        }\n",
       "                        break;\n",
       "                    }\n",
       "                }\n",
       "            }, 500);\n",
       "            "
      ],
      "text/plain": [
       "<IPython.core.display.Javascript object>"
      ]
     },
     "metadata": {},
     "output_type": "display_data"
    }
   ],
   "source": [
    "last_fm = pd.read_csv(\"../data/last_fm_artist_tags_full.csv\", index_col=0)\n",
    "sp_info = pd.read_csv(\"../data/sp_info.csv\", index_col=0)\n",
    "sp_artist = pd.read_csv(\"../data/spotify_artist.csv\", index_col=0)\n",
    "sp_features = pd.read_csv(\"../data/spotify_song_features.csv\", index_col=0)"
   ]
  },
  {
   "cell_type": "code",
   "execution_count": 4,
   "metadata": {},
   "outputs": [
    {
     "data": {
      "text/html": [
       "<div>\n",
       "<style scoped>\n",
       "    .dataframe tbody tr th:only-of-type {\n",
       "        vertical-align: middle;\n",
       "    }\n",
       "\n",
       "    .dataframe tbody tr th {\n",
       "        vertical-align: top;\n",
       "    }\n",
       "\n",
       "    .dataframe thead th {\n",
       "        text-align: right;\n",
       "    }\n",
       "</style>\n",
       "<table border=\"1\" class=\"dataframe\">\n",
       "  <thead>\n",
       "    <tr style=\"text-align: right;\">\n",
       "      <th></th>\n",
       "      <th>artist</th>\n",
       "      <th>tag</th>\n",
       "      <th>plays</th>\n",
       "    </tr>\n",
       "  </thead>\n",
       "  <tbody>\n",
       "    <tr>\n",
       "      <th>0</th>\n",
       "      <td>Abhi The Nomad</td>\n",
       "      <td>alternative rap</td>\n",
       "      <td>797941</td>\n",
       "    </tr>\n",
       "    <tr>\n",
       "      <th>1</th>\n",
       "      <td>Oboy</td>\n",
       "      <td>alternative rap</td>\n",
       "      <td>604759</td>\n",
       "    </tr>\n",
       "    <tr>\n",
       "      <th>2</th>\n",
       "      <td>Reezy</td>\n",
       "      <td>alternative rap</td>\n",
       "      <td>543656</td>\n",
       "    </tr>\n",
       "    <tr>\n",
       "      <th>3</th>\n",
       "      <td>Banks &amp; Steelz</td>\n",
       "      <td>alternative rap</td>\n",
       "      <td>385665</td>\n",
       "    </tr>\n",
       "    <tr>\n",
       "      <th>4</th>\n",
       "      <td>PlayingTheAngel</td>\n",
       "      <td>alternative rap</td>\n",
       "      <td>256463</td>\n",
       "    </tr>\n",
       "  </tbody>\n",
       "</table>\n",
       "</div>"
      ],
      "text/plain": [
       "            artist              tag   plays\n",
       "0   Abhi The Nomad  alternative rap  797941\n",
       "1             Oboy  alternative rap  604759\n",
       "2            Reezy  alternative rap  543656\n",
       "3   Banks & Steelz  alternative rap  385665\n",
       "4  PlayingTheAngel  alternative rap  256463"
      ]
     },
     "execution_count": 4,
     "metadata": {},
     "output_type": "execute_result"
    },
    {
     "data": {
      "application/javascript": [
       "\n",
       "            setTimeout(function() {\n",
       "                var nbb_cell_id = 4;\n",
       "                var nbb_unformatted_code = \"last_fm.head()\";\n",
       "                var nbb_formatted_code = \"last_fm.head()\";\n",
       "                var nbb_cells = Jupyter.notebook.get_cells();\n",
       "                for (var i = 0; i < nbb_cells.length; ++i) {\n",
       "                    if (nbb_cells[i].input_prompt_number == nbb_cell_id) {\n",
       "                        if (nbb_cells[i].get_text() == nbb_unformatted_code) {\n",
       "                             nbb_cells[i].set_text(nbb_formatted_code);\n",
       "                        }\n",
       "                        break;\n",
       "                    }\n",
       "                }\n",
       "            }, 500);\n",
       "            "
      ],
      "text/plain": [
       "<IPython.core.display.Javascript object>"
      ]
     },
     "metadata": {},
     "output_type": "display_data"
    }
   ],
   "source": [
    "last_fm.head()"
   ]
  },
  {
   "cell_type": "code",
   "execution_count": 4,
   "metadata": {},
   "outputs": [
    {
     "data": {
      "text/html": [
       "<div>\n",
       "<style scoped>\n",
       "    .dataframe tbody tr th:only-of-type {\n",
       "        vertical-align: middle;\n",
       "    }\n",
       "\n",
       "    .dataframe tbody tr th {\n",
       "        vertical-align: top;\n",
       "    }\n",
       "\n",
       "    .dataframe thead th {\n",
       "        text-align: right;\n",
       "    }\n",
       "</style>\n",
       "<table border=\"1\" class=\"dataframe\">\n",
       "  <thead>\n",
       "    <tr style=\"text-align: right;\">\n",
       "      <th></th>\n",
       "      <th>artist</th>\n",
       "      <th>title</th>\n",
       "      <th>sp_title</th>\n",
       "      <th>sp_song_id</th>\n",
       "      <th>sp_artist</th>\n",
       "      <th>sp_artist_id</th>\n",
       "      <th>uuid</th>\n",
       "      <th>fm_tag</th>\n",
       "    </tr>\n",
       "  </thead>\n",
       "  <tbody>\n",
       "    <tr>\n",
       "      <th>0</th>\n",
       "      <td>Flash Giordani</td>\n",
       "      <td>Re-Up</td>\n",
       "      <td>NaN</td>\n",
       "      <td>NaN</td>\n",
       "      <td>NaN</td>\n",
       "      <td>NaN</td>\n",
       "      <td>f4621e54-d65e-425e-866e-12560a34a0d8</td>\n",
       "      <td>alternative rap</td>\n",
       "    </tr>\n",
       "    <tr>\n",
       "      <th>1</th>\n",
       "      <td>Flash Giordani</td>\n",
       "      <td>Arctic Bandit</td>\n",
       "      <td>Arctic Bandit</td>\n",
       "      <td>0QE1NjeCyrAbYVVNwJDqsa</td>\n",
       "      <td>Flash Giordani</td>\n",
       "      <td>72p4Ib8eIBOJvaPYebydrf</td>\n",
       "      <td>0e6516af-b4d0-49de-b011-19e1803b8167</td>\n",
       "      <td>alternative rap</td>\n",
       "    </tr>\n",
       "    <tr>\n",
       "      <th>2</th>\n",
       "      <td>Flash Giordani</td>\n",
       "      <td>She Gone 2.0</td>\n",
       "      <td>SHE GONE 2.0 ( PROD. SCOTT $AUCE)</td>\n",
       "      <td>40cvs2pISPXxPdHizhD9aE</td>\n",
       "      <td>Flash Giordani</td>\n",
       "      <td>72p4Ib8eIBOJvaPYebydrf</td>\n",
       "      <td>4b16f18a-3466-42e2-b890-93c70c98150f</td>\n",
       "      <td>alternative rap</td>\n",
       "    </tr>\n",
       "    <tr>\n",
       "      <th>3</th>\n",
       "      <td>Flash Giordani</td>\n",
       "      <td>Remember</td>\n",
       "      <td>Still Remember</td>\n",
       "      <td>7F0yyjJczDZ67zXbRuACyt</td>\n",
       "      <td>Flash Giordani</td>\n",
       "      <td>72p4Ib8eIBOJvaPYebydrf</td>\n",
       "      <td>ce02634e-5f62-4359-a6a8-ded507a0fd32</td>\n",
       "      <td>alternative rap</td>\n",
       "    </tr>\n",
       "    <tr>\n",
       "      <th>4</th>\n",
       "      <td>Flash Giordani</td>\n",
       "      <td>Slippery Slope</td>\n",
       "      <td>NaN</td>\n",
       "      <td>NaN</td>\n",
       "      <td>NaN</td>\n",
       "      <td>NaN</td>\n",
       "      <td>bad595b9-9f18-409e-9659-769390e3d38d</td>\n",
       "      <td>alternative rap</td>\n",
       "    </tr>\n",
       "  </tbody>\n",
       "</table>\n",
       "</div>"
      ],
      "text/plain": [
       "           artist           title                           sp_title  \\\n",
       "0  Flash Giordani           Re-Up                                NaN   \n",
       "1  Flash Giordani   Arctic Bandit                      Arctic Bandit   \n",
       "2  Flash Giordani    She Gone 2.0  SHE GONE 2.0 ( PROD. SCOTT $AUCE)   \n",
       "3  Flash Giordani        Remember                     Still Remember   \n",
       "4  Flash Giordani  Slippery Slope                                NaN   \n",
       "\n",
       "               sp_song_id       sp_artist            sp_artist_id  \\\n",
       "0                     NaN             NaN                     NaN   \n",
       "1  0QE1NjeCyrAbYVVNwJDqsa  Flash Giordani  72p4Ib8eIBOJvaPYebydrf   \n",
       "2  40cvs2pISPXxPdHizhD9aE  Flash Giordani  72p4Ib8eIBOJvaPYebydrf   \n",
       "3  7F0yyjJczDZ67zXbRuACyt  Flash Giordani  72p4Ib8eIBOJvaPYebydrf   \n",
       "4                     NaN             NaN                     NaN   \n",
       "\n",
       "                                   uuid           fm_tag  \n",
       "0  f4621e54-d65e-425e-866e-12560a34a0d8  alternative rap  \n",
       "1  0e6516af-b4d0-49de-b011-19e1803b8167  alternative rap  \n",
       "2  4b16f18a-3466-42e2-b890-93c70c98150f  alternative rap  \n",
       "3  ce02634e-5f62-4359-a6a8-ded507a0fd32  alternative rap  \n",
       "4  bad595b9-9f18-409e-9659-769390e3d38d  alternative rap  "
      ]
     },
     "execution_count": 4,
     "metadata": {},
     "output_type": "execute_result"
    },
    {
     "data": {
      "application/javascript": [
       "\n",
       "            setTimeout(function() {\n",
       "                var nbb_cell_id = 4;\n",
       "                var nbb_unformatted_code = \"sp_info.head()\";\n",
       "                var nbb_formatted_code = \"sp_info.head()\";\n",
       "                var nbb_cells = Jupyter.notebook.get_cells();\n",
       "                for (var i = 0; i < nbb_cells.length; ++i) {\n",
       "                    if (nbb_cells[i].input_prompt_number == nbb_cell_id) {\n",
       "                        if (nbb_cells[i].get_text() == nbb_unformatted_code) {\n",
       "                             nbb_cells[i].set_text(nbb_formatted_code);\n",
       "                        }\n",
       "                        break;\n",
       "                    }\n",
       "                }\n",
       "            }, 500);\n",
       "            "
      ],
      "text/plain": [
       "<IPython.core.display.Javascript object>"
      ]
     },
     "metadata": {},
     "output_type": "display_data"
    }
   ],
   "source": [
    "sp_info.head()"
   ]
  },
  {
   "cell_type": "code",
   "execution_count": 5,
   "metadata": {},
   "outputs": [
    {
     "data": {
      "text/html": [
       "<div>\n",
       "<style scoped>\n",
       "    .dataframe tbody tr th:only-of-type {\n",
       "        vertical-align: middle;\n",
       "    }\n",
       "\n",
       "    .dataframe tbody tr th {\n",
       "        vertical-align: top;\n",
       "    }\n",
       "\n",
       "    .dataframe thead th {\n",
       "        text-align: right;\n",
       "    }\n",
       "</style>\n",
       "<table border=\"1\" class=\"dataframe\">\n",
       "  <thead>\n",
       "    <tr style=\"text-align: right;\">\n",
       "      <th></th>\n",
       "      <th>artist_name</th>\n",
       "      <th>artist_id</th>\n",
       "      <th>followers</th>\n",
       "      <th>popularity</th>\n",
       "      <th>genres</th>\n",
       "    </tr>\n",
       "  </thead>\n",
       "  <tbody>\n",
       "    <tr>\n",
       "      <th>0</th>\n",
       "      <td>Sniff</td>\n",
       "      <td>7mwJTwzGZIaI7GXnbVtadN</td>\n",
       "      <td>212</td>\n",
       "      <td>25</td>\n",
       "      <td>NaN</td>\n",
       "    </tr>\n",
       "    <tr>\n",
       "      <th>1</th>\n",
       "      <td>Moksi</td>\n",
       "      <td>5jm3x1qIibWdKSEMw2G011</td>\n",
       "      <td>83429</td>\n",
       "      <td>57</td>\n",
       "      <td>bass house, dutch edm, edm, electro house, ele...</td>\n",
       "    </tr>\n",
       "    <tr>\n",
       "      <th>2</th>\n",
       "      <td>Métricas Frías</td>\n",
       "      <td>10MeG72hSqEKGbUdBowf9k</td>\n",
       "      <td>25748</td>\n",
       "      <td>52</td>\n",
       "      <td>colombian hip hop</td>\n",
       "    </tr>\n",
       "    <tr>\n",
       "      <th>3</th>\n",
       "      <td>ddertbag</td>\n",
       "      <td>2hbnmgxa40BbaQdFEzfVY1</td>\n",
       "      <td>67</td>\n",
       "      <td>8</td>\n",
       "      <td>NaN</td>\n",
       "    </tr>\n",
       "    <tr>\n",
       "      <th>4</th>\n",
       "      <td>Fred the Godson</td>\n",
       "      <td>4XfZS4DTtBxAd8JjsDFMzl</td>\n",
       "      <td>29030</td>\n",
       "      <td>44</td>\n",
       "      <td>battle rap, boom bap</td>\n",
       "    </tr>\n",
       "  </tbody>\n",
       "</table>\n",
       "</div>"
      ],
      "text/plain": [
       "       artist_name               artist_id  followers  popularity  \\\n",
       "0            Sniff  7mwJTwzGZIaI7GXnbVtadN        212          25   \n",
       "1            Moksi  5jm3x1qIibWdKSEMw2G011      83429          57   \n",
       "2   Métricas Frías  10MeG72hSqEKGbUdBowf9k      25748          52   \n",
       "3         ddertbag  2hbnmgxa40BbaQdFEzfVY1         67           8   \n",
       "4  Fred the Godson  4XfZS4DTtBxAd8JjsDFMzl      29030          44   \n",
       "\n",
       "                                              genres  \n",
       "0                                                NaN  \n",
       "1  bass house, dutch edm, edm, electro house, ele...  \n",
       "2                                  colombian hip hop  \n",
       "3                                                NaN  \n",
       "4                               battle rap, boom bap  "
      ]
     },
     "execution_count": 5,
     "metadata": {},
     "output_type": "execute_result"
    },
    {
     "data": {
      "application/javascript": [
       "\n",
       "            setTimeout(function() {\n",
       "                var nbb_cell_id = 5;\n",
       "                var nbb_unformatted_code = \"sp_artist.head()\";\n",
       "                var nbb_formatted_code = \"sp_artist.head()\";\n",
       "                var nbb_cells = Jupyter.notebook.get_cells();\n",
       "                for (var i = 0; i < nbb_cells.length; ++i) {\n",
       "                    if (nbb_cells[i].input_prompt_number == nbb_cell_id) {\n",
       "                        if (nbb_cells[i].get_text() == nbb_unformatted_code) {\n",
       "                             nbb_cells[i].set_text(nbb_formatted_code);\n",
       "                        }\n",
       "                        break;\n",
       "                    }\n",
       "                }\n",
       "            }, 500);\n",
       "            "
      ],
      "text/plain": [
       "<IPython.core.display.Javascript object>"
      ]
     },
     "metadata": {},
     "output_type": "display_data"
    }
   ],
   "source": [
    "sp_artist.head()"
   ]
  },
  {
   "cell_type": "code",
   "execution_count": 6,
   "metadata": {},
   "outputs": [
    {
     "data": {
      "text/html": [
       "<div>\n",
       "<style scoped>\n",
       "    .dataframe tbody tr th:only-of-type {\n",
       "        vertical-align: middle;\n",
       "    }\n",
       "\n",
       "    .dataframe tbody tr th {\n",
       "        vertical-align: top;\n",
       "    }\n",
       "\n",
       "    .dataframe thead th {\n",
       "        text-align: right;\n",
       "    }\n",
       "</style>\n",
       "<table border=\"1\" class=\"dataframe\">\n",
       "  <thead>\n",
       "    <tr style=\"text-align: right;\">\n",
       "      <th></th>\n",
       "      <th>id</th>\n",
       "      <th>artist</th>\n",
       "      <th>title</th>\n",
       "      <th>album</th>\n",
       "      <th>popularity</th>\n",
       "      <th>artist_ids</th>\n",
       "      <th>danceability</th>\n",
       "      <th>energy</th>\n",
       "      <th>key</th>\n",
       "      <th>loudness</th>\n",
       "      <th>mode</th>\n",
       "      <th>speechiness</th>\n",
       "      <th>acousticness</th>\n",
       "      <th>instrumentalness</th>\n",
       "      <th>liveness</th>\n",
       "      <th>valence</th>\n",
       "      <th>tempo</th>\n",
       "      <th>duration_ms</th>\n",
       "      <th>time_signature</th>\n",
       "    </tr>\n",
       "  </thead>\n",
       "  <tbody>\n",
       "    <tr>\n",
       "      <th>0</th>\n",
       "      <td>1lYmMZLBWTHPybgmK00OR1</td>\n",
       "      <td>SwizZz</td>\n",
       "      <td>More to Say</td>\n",
       "      <td>More to Say</td>\n",
       "      <td>16</td>\n",
       "      <td>3nSjdp5h4cbbTOn59qKKHR</td>\n",
       "      <td>0.492</td>\n",
       "      <td>0.644</td>\n",
       "      <td>7</td>\n",
       "      <td>-7.405</td>\n",
       "      <td>1</td>\n",
       "      <td>0.5600</td>\n",
       "      <td>0.03480</td>\n",
       "      <td>0.000000</td>\n",
       "      <td>0.123</td>\n",
       "      <td>0.425</td>\n",
       "      <td>173.440</td>\n",
       "      <td>255451</td>\n",
       "      <td>4</td>\n",
       "    </tr>\n",
       "    <tr>\n",
       "      <th>1</th>\n",
       "      <td>5MC3xdlx9DFop1Y4J1yDbE</td>\n",
       "      <td>Eagles</td>\n",
       "      <td>New Kid in Town - Live at Capital Centre, Land...</td>\n",
       "      <td>Hotel California (40th Anniversary Expanded Ed...</td>\n",
       "      <td>30</td>\n",
       "      <td>0ECwFtbIWEVNwjlrfc6xoL</td>\n",
       "      <td>0.559</td>\n",
       "      <td>0.654</td>\n",
       "      <td>4</td>\n",
       "      <td>-7.977</td>\n",
       "      <td>1</td>\n",
       "      <td>0.0312</td>\n",
       "      <td>0.12600</td>\n",
       "      <td>0.000159</td>\n",
       "      <td>0.979</td>\n",
       "      <td>0.623</td>\n",
       "      <td>110.164</td>\n",
       "      <td>292733</td>\n",
       "      <td>4</td>\n",
       "    </tr>\n",
       "    <tr>\n",
       "      <th>2</th>\n",
       "      <td>7GZKme55JpmLq3alBDQm11</td>\n",
       "      <td>All Time Low</td>\n",
       "      <td>Dirty Laundry</td>\n",
       "      <td>Last Young Renegade</td>\n",
       "      <td>54</td>\n",
       "      <td>46gyXjRIvN1NL1eCB8GBxo</td>\n",
       "      <td>0.560</td>\n",
       "      <td>0.751</td>\n",
       "      <td>4</td>\n",
       "      <td>-6.022</td>\n",
       "      <td>0</td>\n",
       "      <td>0.0364</td>\n",
       "      <td>0.00168</td>\n",
       "      <td>0.000052</td>\n",
       "      <td>0.168</td>\n",
       "      <td>0.177</td>\n",
       "      <td>93.969</td>\n",
       "      <td>197640</td>\n",
       "      <td>4</td>\n",
       "    </tr>\n",
       "    <tr>\n",
       "      <th>3</th>\n",
       "      <td>4d2ETTRKavzvVAdo98g1T9</td>\n",
       "      <td>J.PERIOD</td>\n",
       "      <td>Thought vs. Hot 97 Freestyle - J.PERIOD Live R...</td>\n",
       "      <td>The Live Mixtape [Top 5 MC’s Edition]</td>\n",
       "      <td>11</td>\n",
       "      <td>1MGyQRNDBHqVYkW1nNKRBv, 6DJEUXZm0e2rAohdoZ5Voo...</td>\n",
       "      <td>0.623</td>\n",
       "      <td>0.928</td>\n",
       "      <td>8</td>\n",
       "      <td>-7.647</td>\n",
       "      <td>0</td>\n",
       "      <td>0.3140</td>\n",
       "      <td>0.51100</td>\n",
       "      <td>0.000002</td>\n",
       "      <td>0.709</td>\n",
       "      <td>0.589</td>\n",
       "      <td>97.357</td>\n",
       "      <td>276292</td>\n",
       "      <td>4</td>\n",
       "    </tr>\n",
       "    <tr>\n",
       "      <th>4</th>\n",
       "      <td>0V9A00lULZ9ZzNslRXbvIZ</td>\n",
       "      <td>Rhys Langston</td>\n",
       "      <td>Jesus of Los Feliz</td>\n",
       "      <td>Aggressively Ethnically Ambiguous</td>\n",
       "      <td>0</td>\n",
       "      <td>3TQniQ8z5QYYsAjrWrl72E, 5SIczlZdCyA9JdQsszygHB</td>\n",
       "      <td>0.829</td>\n",
       "      <td>0.666</td>\n",
       "      <td>5</td>\n",
       "      <td>-8.417</td>\n",
       "      <td>0</td>\n",
       "      <td>0.1100</td>\n",
       "      <td>0.73600</td>\n",
       "      <td>0.017300</td>\n",
       "      <td>0.133</td>\n",
       "      <td>0.584</td>\n",
       "      <td>119.096</td>\n",
       "      <td>132270</td>\n",
       "      <td>4</td>\n",
       "    </tr>\n",
       "  </tbody>\n",
       "</table>\n",
       "</div>"
      ],
      "text/plain": [
       "                       id         artist  \\\n",
       "0  1lYmMZLBWTHPybgmK00OR1         SwizZz   \n",
       "1  5MC3xdlx9DFop1Y4J1yDbE         Eagles   \n",
       "2  7GZKme55JpmLq3alBDQm11   All Time Low   \n",
       "3  4d2ETTRKavzvVAdo98g1T9       J.PERIOD   \n",
       "4  0V9A00lULZ9ZzNslRXbvIZ  Rhys Langston   \n",
       "\n",
       "                                               title  \\\n",
       "0                                        More to Say   \n",
       "1  New Kid in Town - Live at Capital Centre, Land...   \n",
       "2                                      Dirty Laundry   \n",
       "3  Thought vs. Hot 97 Freestyle - J.PERIOD Live R...   \n",
       "4                                 Jesus of Los Feliz   \n",
       "\n",
       "                                               album  popularity  \\\n",
       "0                                        More to Say          16   \n",
       "1  Hotel California (40th Anniversary Expanded Ed...          30   \n",
       "2                                Last Young Renegade          54   \n",
       "3              The Live Mixtape [Top 5 MC’s Edition]          11   \n",
       "4                  Aggressively Ethnically Ambiguous           0   \n",
       "\n",
       "                                          artist_ids  danceability  energy  \\\n",
       "0                             3nSjdp5h4cbbTOn59qKKHR         0.492   0.644   \n",
       "1                             0ECwFtbIWEVNwjlrfc6xoL         0.559   0.654   \n",
       "2                             46gyXjRIvN1NL1eCB8GBxo         0.560   0.751   \n",
       "3  1MGyQRNDBHqVYkW1nNKRBv, 6DJEUXZm0e2rAohdoZ5Voo...         0.623   0.928   \n",
       "4     3TQniQ8z5QYYsAjrWrl72E, 5SIczlZdCyA9JdQsszygHB         0.829   0.666   \n",
       "\n",
       "   key  loudness  mode  speechiness  acousticness  instrumentalness  liveness  \\\n",
       "0    7    -7.405     1       0.5600       0.03480          0.000000     0.123   \n",
       "1    4    -7.977     1       0.0312       0.12600          0.000159     0.979   \n",
       "2    4    -6.022     0       0.0364       0.00168          0.000052     0.168   \n",
       "3    8    -7.647     0       0.3140       0.51100          0.000002     0.709   \n",
       "4    5    -8.417     0       0.1100       0.73600          0.017300     0.133   \n",
       "\n",
       "   valence    tempo  duration_ms  time_signature  \n",
       "0    0.425  173.440       255451               4  \n",
       "1    0.623  110.164       292733               4  \n",
       "2    0.177   93.969       197640               4  \n",
       "3    0.589   97.357       276292               4  \n",
       "4    0.584  119.096       132270               4  "
      ]
     },
     "execution_count": 6,
     "metadata": {},
     "output_type": "execute_result"
    },
    {
     "data": {
      "application/javascript": [
       "\n",
       "            setTimeout(function() {\n",
       "                var nbb_cell_id = 6;\n",
       "                var nbb_unformatted_code = \"sp_features.head()\";\n",
       "                var nbb_formatted_code = \"sp_features.head()\";\n",
       "                var nbb_cells = Jupyter.notebook.get_cells();\n",
       "                for (var i = 0; i < nbb_cells.length; ++i) {\n",
       "                    if (nbb_cells[i].input_prompt_number == nbb_cell_id) {\n",
       "                        if (nbb_cells[i].get_text() == nbb_unformatted_code) {\n",
       "                             nbb_cells[i].set_text(nbb_formatted_code);\n",
       "                        }\n",
       "                        break;\n",
       "                    }\n",
       "                }\n",
       "            }, 500);\n",
       "            "
      ],
      "text/plain": [
       "<IPython.core.display.Javascript object>"
      ]
     },
     "metadata": {},
     "output_type": "display_data"
    }
   ],
   "source": [
    "sp_features.head()"
   ]
  },
  {
   "cell_type": "code",
   "execution_count": 7,
   "metadata": {},
   "outputs": [
    {
     "data": {
      "application/javascript": [
       "\n",
       "            setTimeout(function() {\n",
       "                var nbb_cell_id = 7;\n",
       "                var nbb_unformatted_code = \"df = sp_info.copy()\";\n",
       "                var nbb_formatted_code = \"df = sp_info.copy()\";\n",
       "                var nbb_cells = Jupyter.notebook.get_cells();\n",
       "                for (var i = 0; i < nbb_cells.length; ++i) {\n",
       "                    if (nbb_cells[i].input_prompt_number == nbb_cell_id) {\n",
       "                        if (nbb_cells[i].get_text() == nbb_unformatted_code) {\n",
       "                             nbb_cells[i].set_text(nbb_formatted_code);\n",
       "                        }\n",
       "                        break;\n",
       "                    }\n",
       "                }\n",
       "            }, 500);\n",
       "            "
      ],
      "text/plain": [
       "<IPython.core.display.Javascript object>"
      ]
     },
     "metadata": {},
     "output_type": "display_data"
    }
   ],
   "source": [
    "df = sp_info.copy()"
   ]
  },
  {
   "cell_type": "code",
   "execution_count": 8,
   "metadata": {},
   "outputs": [
    {
     "data": {
      "application/javascript": [
       "\n",
       "            setTimeout(function() {\n",
       "                var nbb_cell_id = 8;\n",
       "                var nbb_unformatted_code = \"df = df[df[\\\"sp_title\\\"].isna() == False]\";\n",
       "                var nbb_formatted_code = \"df = df[df[\\\"sp_title\\\"].isna() == False]\";\n",
       "                var nbb_cells = Jupyter.notebook.get_cells();\n",
       "                for (var i = 0; i < nbb_cells.length; ++i) {\n",
       "                    if (nbb_cells[i].input_prompt_number == nbb_cell_id) {\n",
       "                        if (nbb_cells[i].get_text() == nbb_unformatted_code) {\n",
       "                             nbb_cells[i].set_text(nbb_formatted_code);\n",
       "                        }\n",
       "                        break;\n",
       "                    }\n",
       "                }\n",
       "            }, 500);\n",
       "            "
      ],
      "text/plain": [
       "<IPython.core.display.Javascript object>"
      ]
     },
     "metadata": {},
     "output_type": "display_data"
    }
   ],
   "source": [
    "df = df[df[\"sp_title\"].isna() == False]"
   ]
  },
  {
   "cell_type": "code",
   "execution_count": 9,
   "metadata": {},
   "outputs": [
    {
     "data": {
      "text/plain": [
       "trap               1021\n",
       "alternative rap     814\n",
       "gangsta rap         586\n",
       "southern rap        471\n",
       "West coast rap      401\n",
       "crunk               307\n",
       "conscious rap       306\n",
       "East coast rap      232\n",
       "boom bap            217\n",
       "hyphy               180\n",
       "Name: fm_tag, dtype: int64"
      ]
     },
     "execution_count": 9,
     "metadata": {},
     "output_type": "execute_result"
    },
    {
     "data": {
      "application/javascript": [
       "\n",
       "            setTimeout(function() {\n",
       "                var nbb_cell_id = 9;\n",
       "                var nbb_unformatted_code = \"df[\\\"fm_tag\\\"].value_counts()\";\n",
       "                var nbb_formatted_code = \"df[\\\"fm_tag\\\"].value_counts()\";\n",
       "                var nbb_cells = Jupyter.notebook.get_cells();\n",
       "                for (var i = 0; i < nbb_cells.length; ++i) {\n",
       "                    if (nbb_cells[i].input_prompt_number == nbb_cell_id) {\n",
       "                        if (nbb_cells[i].get_text() == nbb_unformatted_code) {\n",
       "                             nbb_cells[i].set_text(nbb_formatted_code);\n",
       "                        }\n",
       "                        break;\n",
       "                    }\n",
       "                }\n",
       "            }, 500);\n",
       "            "
      ],
      "text/plain": [
       "<IPython.core.display.Javascript object>"
      ]
     },
     "metadata": {},
     "output_type": "display_data"
    }
   ],
   "source": [
    "df[\"fm_tag\"].value_counts()"
   ]
  },
  {
   "cell_type": "code",
   "execution_count": 10,
   "metadata": {},
   "outputs": [
    {
     "data": {
      "application/javascript": [
       "\n",
       "            setTimeout(function() {\n",
       "                var nbb_cell_id = 10;\n",
       "                var nbb_unformatted_code = \"untagged = df[df[\\\"fm_tag\\\"].isna()]\";\n",
       "                var nbb_formatted_code = \"untagged = df[df[\\\"fm_tag\\\"].isna()]\";\n",
       "                var nbb_cells = Jupyter.notebook.get_cells();\n",
       "                for (var i = 0; i < nbb_cells.length; ++i) {\n",
       "                    if (nbb_cells[i].input_prompt_number == nbb_cell_id) {\n",
       "                        if (nbb_cells[i].get_text() == nbb_unformatted_code) {\n",
       "                             nbb_cells[i].set_text(nbb_formatted_code);\n",
       "                        }\n",
       "                        break;\n",
       "                    }\n",
       "                }\n",
       "            }, 500);\n",
       "            "
      ],
      "text/plain": [
       "<IPython.core.display.Javascript object>"
      ]
     },
     "metadata": {},
     "output_type": "display_data"
    }
   ],
   "source": [
    "untagged = df[df[\"fm_tag\"].isna()]"
   ]
  },
  {
   "cell_type": "code",
   "execution_count": 11,
   "metadata": {},
   "outputs": [
    {
     "data": {
      "application/javascript": [
       "\n",
       "            setTimeout(function() {\n",
       "                var nbb_cell_id = 11;\n",
       "                var nbb_unformatted_code = \"a_ids = list(set(untagged[\\\"sp_artist_id\\\"]))\";\n",
       "                var nbb_formatted_code = \"a_ids = list(set(untagged[\\\"sp_artist_id\\\"]))\";\n",
       "                var nbb_cells = Jupyter.notebook.get_cells();\n",
       "                for (var i = 0; i < nbb_cells.length; ++i) {\n",
       "                    if (nbb_cells[i].input_prompt_number == nbb_cell_id) {\n",
       "                        if (nbb_cells[i].get_text() == nbb_unformatted_code) {\n",
       "                             nbb_cells[i].set_text(nbb_formatted_code);\n",
       "                        }\n",
       "                        break;\n",
       "                    }\n",
       "                }\n",
       "            }, 500);\n",
       "            "
      ],
      "text/plain": [
       "<IPython.core.display.Javascript object>"
      ]
     },
     "metadata": {},
     "output_type": "display_data"
    }
   ],
   "source": [
    "a_ids = list(set(untagged[\"sp_artist_id\"]))"
   ]
  },
  {
   "cell_type": "code",
   "execution_count": 12,
   "metadata": {},
   "outputs": [
    {
     "data": {
      "application/javascript": [
       "\n",
       "            setTimeout(function() {\n",
       "                var nbb_cell_id = 12;\n",
       "                var nbb_unformatted_code = \"def top_genres(_df, n):\\n    top_n = (\\n        pd.Series(\\\", \\\".join(_df[\\\"genres\\\"].dropna().values).split(\\\", \\\"))\\n        .value_counts()\\n        .index[:n]\\n    )\\n    return top_n\";\n",
       "                var nbb_formatted_code = \"def top_genres(_df, n):\\n    top_n = (\\n        pd.Series(\\\", \\\".join(_df[\\\"genres\\\"].dropna().values).split(\\\", \\\"))\\n        .value_counts()\\n        .index[:n]\\n    )\\n    return top_n\";\n",
       "                var nbb_cells = Jupyter.notebook.get_cells();\n",
       "                for (var i = 0; i < nbb_cells.length; ++i) {\n",
       "                    if (nbb_cells[i].input_prompt_number == nbb_cell_id) {\n",
       "                        if (nbb_cells[i].get_text() == nbb_unformatted_code) {\n",
       "                             nbb_cells[i].set_text(nbb_formatted_code);\n",
       "                        }\n",
       "                        break;\n",
       "                    }\n",
       "                }\n",
       "            }, 500);\n",
       "            "
      ],
      "text/plain": [
       "<IPython.core.display.Javascript object>"
      ]
     },
     "metadata": {},
     "output_type": "display_data"
    }
   ],
   "source": [
    "def top_genres(_df, n):\n",
    "    top_n = (\n",
    "        pd.Series(\", \".join(_df[\"genres\"].dropna().values).split(\", \"))\n",
    "        .value_counts()\n",
    "        .index[:n]\n",
    "    )\n",
    "    return top_n"
   ]
  },
  {
   "cell_type": "code",
   "execution_count": 13,
   "metadata": {},
   "outputs": [
    {
     "name": "stdout",
     "output_type": "stream",
     "text": [
      "---------------\n",
      "---------------\n",
      "---------------\n",
      "Index(['rap', 'hip hop', 'trap', 'southern hip hop', 'gangster rap', 'pop rap',\n",
      "       'hardcore hip hop', 'alternative hip hop', 'underground hip hop',\n",
      "       'underground rap', 'boom bap', 'melodic rap', 'emo rap',\n",
      "       'east coast hip hop', 'hyphy', 'queens hip hop', 'abstract hip hop',\n",
      "       'west coast trap', 'deep southern trap', 'miami hip hop',\n",
      "       'conscious hip hop', 'dirty south rap', 'dance pop', 'country rap',\n",
      "       'neo soul', 'pop', 'west coast rap', 'redneck', 'cali rap', 'hip pop',\n",
      "       'country', 'g funk', 'german hip hop', 'indie hip hop', 'chicago rap',\n",
      "       'colombian hip hop', 'pop dance', 'turntablism', 'rock',\n",
      "       'baton rouge rap', 'atl hip hop', 'atl trap', 'gospel',\n",
      "       'buffalo hip hop', 'folk rock', 'tropical house', 'contemporary gospel',\n",
      "       'ohio hip hop', 'edm', 'classic soul'],\n",
      "      dtype='object')\n"
     ]
    },
    {
     "data": {
      "application/javascript": [
       "\n",
       "            setTimeout(function() {\n",
       "                var nbb_cell_id = 13;\n",
       "                var nbb_unformatted_code = \"sub_df = sp_artist[sp_artist[\\\"artist_id\\\"].isin(a_ids)]\\nprint('---------------')        \\nprint('---------------')\\n\\n# print(t)\\nprint('---------------')\\nprint(top_genres(sub_df, 50))\";\n",
       "                var nbb_formatted_code = \"sub_df = sp_artist[sp_artist[\\\"artist_id\\\"].isin(a_ids)]\\nprint(\\\"---------------\\\")\\nprint(\\\"---------------\\\")\\n\\n# print(t)\\nprint(\\\"---------------\\\")\\nprint(top_genres(sub_df, 50))\";\n",
       "                var nbb_cells = Jupyter.notebook.get_cells();\n",
       "                for (var i = 0; i < nbb_cells.length; ++i) {\n",
       "                    if (nbb_cells[i].input_prompt_number == nbb_cell_id) {\n",
       "                        if (nbb_cells[i].get_text() == nbb_unformatted_code) {\n",
       "                             nbb_cells[i].set_text(nbb_formatted_code);\n",
       "                        }\n",
       "                        break;\n",
       "                    }\n",
       "                }\n",
       "            }, 500);\n",
       "            "
      ],
      "text/plain": [
       "<IPython.core.display.Javascript object>"
      ]
     },
     "metadata": {},
     "output_type": "display_data"
    }
   ],
   "source": [
    "sub_df = sp_artist[sp_artist[\"artist_id\"].isin(a_ids)]\n",
    "print('---------------')        \n",
    "print('---------------')\n",
    "\n",
    "# print(t)\n",
    "print('---------------')\n",
    "print(top_genres(sub_df, 50))\n"
   ]
  },
  {
   "cell_type": "markdown",
   "metadata": {},
   "source": [
    "hyphy==>west coast\n",
    "\n",
    "boom bap==> east coast\n",
    "\n",
    "crunk==> southern\n",
    "\n",
    "alternative\n",
    "\n",
    "trap\n",
    "\n",
    "-conscious rap-"
   ]
  },
  {
   "cell_type": "code",
   "execution_count": 21,
   "metadata": {},
   "outputs": [
    {
     "data": {
      "application/javascript": [
       "\n",
       "            setTimeout(function() {\n",
       "                var nbb_cell_id = 21;\n",
       "                var nbb_unformatted_code = \"sp_genre_trans = {\\n    \\\"hyphy\\\": [\\n        \\\"hyphy\\\",\\n        #         \\\"oakland hip hop\\\",\\n        #         \\\"west coast trap\\\",\\n        #         \\\"cali rap\\\",\\n        #         \\\"west coast rap\\\",\\n    ],\\n    \\\"alternative rap\\\": [\\n        \\\"uk alternative hip hop\\\",\\n        \\\"emo rap\\\",\\n        \\\"dark trap\\\",\\n        \\\"sad rap\\\",\\n        \\\"polish alternative rap\\\",\\n        \\\"canadian contemporary r&b\\\",\\n        \\\"abstract hip hop\\\",\\n        \\\"alternative hip hop\\\",\\n    ],\\n    \\\"boom bap\\\": [\\n        \\\"colombian hip hop\\\",\\n        #         \\\"east coast hip hop\\\",\\n        \\\"hardcore hip hop\\\",\\n        \\\"jazz boom bap\\\",\\n        \\\"boom bap\\\",\\n        \\\"old school hip hop\\\",\\n        \\\"turntablism\\\",\\n        \\\"jazz rap\\\",\\n    ],\\n    \\\"gangsta rap\\\": [\\\"gangster rap\\\"],\\n    \\\"East coast rap\\\": [\\n        \\\"harlem hip hop\\\",\\n        #         \\\"boom bap\\\",\\n        \\\"boston hip hop\\\",\\n        \\\"deep east coast hip hop\\\",\\n        \\\"east coast hip hop\\\",\\n        \\\"spiritual hip hop\\\",\\n        \\\"philly rap\\\",\\n        \\\"nyc rap\\\",\\n    ],\\n    \\\"West coast rap\\\": [\\n        #         \\\"hyphy\\\",\\n        \\\"west coast trap\\\",\\n        \\\"bay area hip hop\\\",\\n        \\\"west coast rap\\\",\\n        \\\"oakland hip hop\\\",\\n        \\\"g funk\\\",\\n        \\\"cali rap\\\",\\n        \\\"sacramento hip hop\\\",\\n        \\\"san diego rap\\\",\\n    ],\\n    \\\"southern rap\\\": [\\n        \\\"dirty south rap\\\",\\n        \\\"southern hip hop\\\",\\n        \\\"houston rap\\\",\\n        \\\"dirty texas rap\\\",\\n        \\\"crunk\\\",\\n        \\\"country rap\\\",\\n        \\\"atl hip hop\\\",\\n        \\\"redneck\\\",\\n        \\\"new orleans rap\\\",\\n        \\\"atl trap\\\",\\n        \\\"memphis hip hop\\\",\\n        \\\"tennessee hip hop\\\",\\n        \\\"chicago rap\\\",\\n        \\\"ohio hip hop\\\",\\n        'florida rap'\\n    ],\\n    \\\"trap\\\": [\\\"trap\\\", \\\"electronic trap\\\", \\\"vapor trap\\\", \\\"bass trap\\\"],\\n    \\\"crunk\\\": [\\\"crunk\\\"],\\n}\";\n",
       "                var nbb_formatted_code = \"sp_genre_trans = {\\n    \\\"hyphy\\\": [\\n        \\\"hyphy\\\",\\n        #         \\\"oakland hip hop\\\",\\n        #         \\\"west coast trap\\\",\\n        #         \\\"cali rap\\\",\\n        #         \\\"west coast rap\\\",\\n    ],\\n    \\\"alternative rap\\\": [\\n        \\\"uk alternative hip hop\\\",\\n        \\\"emo rap\\\",\\n        \\\"dark trap\\\",\\n        \\\"sad rap\\\",\\n        \\\"polish alternative rap\\\",\\n        \\\"canadian contemporary r&b\\\",\\n        \\\"abstract hip hop\\\",\\n        \\\"alternative hip hop\\\",\\n    ],\\n    \\\"boom bap\\\": [\\n        \\\"colombian hip hop\\\",\\n        #         \\\"east coast hip hop\\\",\\n        \\\"hardcore hip hop\\\",\\n        \\\"jazz boom bap\\\",\\n        \\\"boom bap\\\",\\n        \\\"old school hip hop\\\",\\n        \\\"turntablism\\\",\\n        \\\"jazz rap\\\",\\n    ],\\n    \\\"gangsta rap\\\": [\\\"gangster rap\\\"],\\n    \\\"East coast rap\\\": [\\n        \\\"harlem hip hop\\\",\\n        #         \\\"boom bap\\\",\\n        \\\"boston hip hop\\\",\\n        \\\"deep east coast hip hop\\\",\\n        \\\"east coast hip hop\\\",\\n        \\\"spiritual hip hop\\\",\\n        \\\"philly rap\\\",\\n        \\\"nyc rap\\\",\\n    ],\\n    \\\"West coast rap\\\": [\\n        #         \\\"hyphy\\\",\\n        \\\"west coast trap\\\",\\n        \\\"bay area hip hop\\\",\\n        \\\"west coast rap\\\",\\n        \\\"oakland hip hop\\\",\\n        \\\"g funk\\\",\\n        \\\"cali rap\\\",\\n        \\\"sacramento hip hop\\\",\\n        \\\"san diego rap\\\",\\n    ],\\n    \\\"southern rap\\\": [\\n        \\\"dirty south rap\\\",\\n        \\\"southern hip hop\\\",\\n        \\\"houston rap\\\",\\n        \\\"dirty texas rap\\\",\\n        \\\"crunk\\\",\\n        \\\"country rap\\\",\\n        \\\"atl hip hop\\\",\\n        \\\"redneck\\\",\\n        \\\"new orleans rap\\\",\\n        \\\"atl trap\\\",\\n        \\\"memphis hip hop\\\",\\n        \\\"tennessee hip hop\\\",\\n        \\\"chicago rap\\\",\\n        \\\"ohio hip hop\\\",\\n        \\\"florida rap\\\",\\n    ],\\n    \\\"trap\\\": [\\\"trap\\\", \\\"electronic trap\\\", \\\"vapor trap\\\", \\\"bass trap\\\"],\\n    \\\"crunk\\\": [\\\"crunk\\\"],\\n}\";\n",
       "                var nbb_cells = Jupyter.notebook.get_cells();\n",
       "                for (var i = 0; i < nbb_cells.length; ++i) {\n",
       "                    if (nbb_cells[i].input_prompt_number == nbb_cell_id) {\n",
       "                        if (nbb_cells[i].get_text() == nbb_unformatted_code) {\n",
       "                             nbb_cells[i].set_text(nbb_formatted_code);\n",
       "                        }\n",
       "                        break;\n",
       "                    }\n",
       "                }\n",
       "            }, 500);\n",
       "            "
      ],
      "text/plain": [
       "<IPython.core.display.Javascript object>"
      ]
     },
     "metadata": {},
     "output_type": "display_data"
    }
   ],
   "source": [
    "sp_genre_trans = {\n",
    "    \"hyphy\": [\n",
    "        \"hyphy\",\n",
    "        #         \"oakland hip hop\",\n",
    "        #         \"west coast trap\",\n",
    "        #         \"cali rap\",\n",
    "        #         \"west coast rap\",\n",
    "    ],\n",
    "    \"alternative rap\": [\n",
    "        \"uk alternative hip hop\",\n",
    "        \"emo rap\",\n",
    "        \"dark trap\",\n",
    "        \"sad rap\",\n",
    "        \"polish alternative rap\",\n",
    "        \"canadian contemporary r&b\",\n",
    "        \"abstract hip hop\",\n",
    "        \"alternative hip hop\",\n",
    "    ],\n",
    "    \"boom bap\": [\n",
    "        \"colombian hip hop\",\n",
    "        #         \"east coast hip hop\",\n",
    "        \"hardcore hip hop\",\n",
    "        \"jazz boom bap\",\n",
    "        \"boom bap\",\n",
    "        \"old school hip hop\",\n",
    "        \"turntablism\",\n",
    "        \"jazz rap\",\n",
    "    ],\n",
    "    \"gangsta rap\": [\"gangster rap\"],\n",
    "    \"East coast rap\": [\n",
    "        \"harlem hip hop\",\n",
    "        #         \"boom bap\",\n",
    "        \"boston hip hop\",\n",
    "        \"deep east coast hip hop\",\n",
    "        \"east coast hip hop\",\n",
    "        \"spiritual hip hop\",\n",
    "        \"philly rap\",\n",
    "        \"nyc rap\",\n",
    "    ],\n",
    "    \"West coast rap\": [\n",
    "        #         \"hyphy\",\n",
    "        \"west coast trap\",\n",
    "        \"bay area hip hop\",\n",
    "        \"west coast rap\",\n",
    "        \"oakland hip hop\",\n",
    "        \"g funk\",\n",
    "        \"cali rap\",\n",
    "        \"sacramento hip hop\",\n",
    "        \"san diego rap\",\n",
    "    ],\n",
    "    \"southern rap\": [\n",
    "        \"dirty south rap\",\n",
    "        \"southern hip hop\",\n",
    "        \"houston rap\",\n",
    "        \"dirty texas rap\",\n",
    "        \"crunk\",\n",
    "        \"country rap\",\n",
    "        \"atl hip hop\",\n",
    "        \"redneck\",\n",
    "        \"new orleans rap\",\n",
    "        \"atl trap\",\n",
    "        \"memphis hip hop\",\n",
    "        \"tennessee hip hop\",\n",
    "        \"chicago rap\",\n",
    "        \"ohio hip hop\",\n",
    "        \"florida rap\",\n",
    "    ],\n",
    "    \"trap\": [\"trap\", \"electronic trap\", \"vapor trap\", \"bass trap\"],\n",
    "    \"crunk\": [\"crunk\"],\n",
    "}"
   ]
  },
  {
   "cell_type": "code",
   "execution_count": 15,
   "metadata": {},
   "outputs": [
    {
     "data": {
      "application/javascript": [
       "\n",
       "            setTimeout(function() {\n",
       "                var nbb_cell_id = 15;\n",
       "                var nbb_unformatted_code = \"other = [\\n    \\\"christian hip hop\\\",\\n    \\\"christian trap\\\",\\n    \\\"underground hip hop\\\",\\n    \\\"melodic rap\\\",\\n    \\\"pop rap\\\",\\n    \\\"rap\\\",\\n    \\\"battle rap\\\",\\n]\";\n",
       "                var nbb_formatted_code = \"other = [\\n    \\\"christian hip hop\\\",\\n    \\\"christian trap\\\",\\n    \\\"underground hip hop\\\",\\n    \\\"melodic rap\\\",\\n    \\\"pop rap\\\",\\n    \\\"rap\\\",\\n    \\\"battle rap\\\",\\n]\";\n",
       "                var nbb_cells = Jupyter.notebook.get_cells();\n",
       "                for (var i = 0; i < nbb_cells.length; ++i) {\n",
       "                    if (nbb_cells[i].input_prompt_number == nbb_cell_id) {\n",
       "                        if (nbb_cells[i].get_text() == nbb_unformatted_code) {\n",
       "                             nbb_cells[i].set_text(nbb_formatted_code);\n",
       "                        }\n",
       "                        break;\n",
       "                    }\n",
       "                }\n",
       "            }, 500);\n",
       "            "
      ],
      "text/plain": [
       "<IPython.core.display.Javascript object>"
      ]
     },
     "metadata": {},
     "output_type": "display_data"
    }
   ],
   "source": [
    "other = [\n",
    "    \"christian hip hop\",\n",
    "    \"christian trap\",\n",
    "    \"underground hip hop\",\n",
    "    \"melodic rap\",\n",
    "    \"pop rap\",\n",
    "    \"rap\",\n",
    "    \"battle rap\",\n",
    "]"
   ]
  },
  {
   "cell_type": "code",
   "execution_count": 16,
   "metadata": {},
   "outputs": [
    {
     "data": {
      "application/javascript": [
       "\n",
       "            setTimeout(function() {\n",
       "                var nbb_cell_id = 16;\n",
       "                var nbb_unformatted_code = \"df = df.reset_index(drop=True)\";\n",
       "                var nbb_formatted_code = \"df = df.reset_index(drop=True)\";\n",
       "                var nbb_cells = Jupyter.notebook.get_cells();\n",
       "                for (var i = 0; i < nbb_cells.length; ++i) {\n",
       "                    if (nbb_cells[i].input_prompt_number == nbb_cell_id) {\n",
       "                        if (nbb_cells[i].get_text() == nbb_unformatted_code) {\n",
       "                             nbb_cells[i].set_text(nbb_formatted_code);\n",
       "                        }\n",
       "                        break;\n",
       "                    }\n",
       "                }\n",
       "            }, 500);\n",
       "            "
      ],
      "text/plain": [
       "<IPython.core.display.Javascript object>"
      ]
     },
     "metadata": {},
     "output_type": "display_data"
    }
   ],
   "source": [
    "df = df.reset_index(drop=True)"
   ]
  },
  {
   "cell_type": "code",
   "execution_count": 17,
   "metadata": {},
   "outputs": [
    {
     "data": {
      "application/javascript": [
       "\n",
       "            setTimeout(function() {\n",
       "                var nbb_cell_id = 17;\n",
       "                var nbb_unformatted_code = \"vote_dict = {}\\n# k = list(sp_genre_trans.keys())\\nfor k in list(sp_genre_trans.keys()):\\n    vote_dict[k] = 0\";\n",
       "                var nbb_formatted_code = \"vote_dict = {}\\n# k = list(sp_genre_trans.keys())\\nfor k in list(sp_genre_trans.keys()):\\n    vote_dict[k] = 0\";\n",
       "                var nbb_cells = Jupyter.notebook.get_cells();\n",
       "                for (var i = 0; i < nbb_cells.length; ++i) {\n",
       "                    if (nbb_cells[i].input_prompt_number == nbb_cell_id) {\n",
       "                        if (nbb_cells[i].get_text() == nbb_unformatted_code) {\n",
       "                             nbb_cells[i].set_text(nbb_formatted_code);\n",
       "                        }\n",
       "                        break;\n",
       "                    }\n",
       "                }\n",
       "            }, 500);\n",
       "            "
      ],
      "text/plain": [
       "<IPython.core.display.Javascript object>"
      ]
     },
     "metadata": {},
     "output_type": "display_data"
    }
   ],
   "source": [
    "vote_dict = {}\n",
    "# k = list(sp_genre_trans.keys())\n",
    "for k in list(sp_genre_trans.keys()):\n",
    "    vote_dict[k] = 0"
   ]
  },
  {
   "cell_type": "code",
   "execution_count": 18,
   "metadata": {},
   "outputs": [
    {
     "data": {
      "text/plain": [
       "{'hyphy': 0,\n",
       " 'alternative rap': 0,\n",
       " 'boom bap': 0,\n",
       " 'gangsta rap': 0,\n",
       " 'East coast rap': 0,\n",
       " 'West coast rap': 0,\n",
       " 'southern rap': 0,\n",
       " 'trap': 0,\n",
       " 'crunk': 0}"
      ]
     },
     "execution_count": 18,
     "metadata": {},
     "output_type": "execute_result"
    },
    {
     "data": {
      "application/javascript": [
       "\n",
       "            setTimeout(function() {\n",
       "                var nbb_cell_id = 18;\n",
       "                var nbb_unformatted_code = \"vote_dict\";\n",
       "                var nbb_formatted_code = \"vote_dict\";\n",
       "                var nbb_cells = Jupyter.notebook.get_cells();\n",
       "                for (var i = 0; i < nbb_cells.length; ++i) {\n",
       "                    if (nbb_cells[i].input_prompt_number == nbb_cell_id) {\n",
       "                        if (nbb_cells[i].get_text() == nbb_unformatted_code) {\n",
       "                             nbb_cells[i].set_text(nbb_formatted_code);\n",
       "                        }\n",
       "                        break;\n",
       "                    }\n",
       "                }\n",
       "            }, 500);\n",
       "            "
      ],
      "text/plain": [
       "<IPython.core.display.Javascript object>"
      ]
     },
     "metadata": {},
     "output_type": "display_data"
    }
   ],
   "source": [
    "vote_dict"
   ]
  },
  {
   "cell_type": "code",
   "execution_count": 19,
   "metadata": {},
   "outputs": [
    {
     "data": {
      "application/javascript": [
       "\n",
       "            setTimeout(function() {\n",
       "                var nbb_cell_id = 19;\n",
       "                var nbb_unformatted_code = \"import numpy as np\";\n",
       "                var nbb_formatted_code = \"import numpy as np\";\n",
       "                var nbb_cells = Jupyter.notebook.get_cells();\n",
       "                for (var i = 0; i < nbb_cells.length; ++i) {\n",
       "                    if (nbb_cells[i].input_prompt_number == nbb_cell_id) {\n",
       "                        if (nbb_cells[i].get_text() == nbb_unformatted_code) {\n",
       "                             nbb_cells[i].set_text(nbb_formatted_code);\n",
       "                        }\n",
       "                        break;\n",
       "                    }\n",
       "                }\n",
       "            }, 500);\n",
       "            "
      ],
      "text/plain": [
       "<IPython.core.display.Javascript object>"
      ]
     },
     "metadata": {},
     "output_type": "display_data"
    }
   ],
   "source": [
    "import numpy as np"
   ]
  },
  {
   "cell_type": "code",
   "execution_count": 20,
   "metadata": {},
   "outputs": [
    {
     "data": {
      "text/plain": [
       "colombian hip hop                                                    17\n",
       "czsk hip hop                                                         17\n",
       "desi pop, filmi, modern bollywood, sufi                              13\n",
       "christian hip hop, christian trap                                    13\n",
       "glitchcore                                                           13\n",
       "underground rap                                                      12\n",
       "boom bap                                                             12\n",
       "country rap, redneck                                                 11\n",
       "polish hip hop                                                        8\n",
       "polish alternative rap                                                8\n",
       "uk alternative hip hop                                                8\n",
       "bay area hip hop                                                      8\n",
       "battle rap                                                            8\n",
       "g funk, west coast rap                                                7\n",
       "polish hip hop, polish trap                                           7\n",
       "trap brasileiro                                                       6\n",
       "houston rap                                                           6\n",
       "hyphy, west coast trap                                                6\n",
       "french hip hop, pop urbaine, rap francais                             6\n",
       "zouk, zouk riddim                                                     6\n",
       "desi pop, modern bollywood                                            6\n",
       "glitchcore, hyperpop                                                  6\n",
       "g funk                                                                6\n",
       "ohio hip hop                                                          6\n",
       "italian underground hip hop                                           6\n",
       "brazilian hip hop                                                     6\n",
       "emo rap, sad rap                                                      6\n",
       "nerdcore                                                              6\n",
       "desi pop, filmi, modern bollywood                                     6\n",
       "boston hip hop                                                        6\n",
       "cali rap, hyphy, west coast trap                                      5\n",
       "southern gospel                                                       5\n",
       "cali rap                                                              5\n",
       "memphis hip hop                                                       5\n",
       "turkish hip hop                                                       5\n",
       "abstract hip hop                                                      5\n",
       "vapor trap                                                            5\n",
       "florida rap                                                           4\n",
       "redneck                                                               4\n",
       "uk alternative hip hop, uk hip hop                                    4\n",
       "cali rap, west coast trap                                             4\n",
       "bay area hip hop, cali rap, hyphy, west coast trap                    4\n",
       "hyphy                                                                 4\n",
       "polish alternative rap, polish hip hop                                4\n",
       "cali rap, hyphy, oakland hip hop, west coast rap, west coast trap     4\n",
       "underground hip hop                                                   4\n",
       "turkish hip hop, turkish trap, turkish trap pop                       4\n",
       "emo rap                                                               4\n",
       "dirty texas rap, houston rap                                          4\n",
       "melodic rap, pop rap, rap, trap                                       4\n",
       "Name: genres, dtype: int64"
      ]
     },
     "execution_count": 20,
     "metadata": {},
     "output_type": "execute_result"
    },
    {
     "data": {
      "application/javascript": [
       "\n",
       "            setTimeout(function() {\n",
       "                var nbb_cell_id = 20;\n",
       "                var nbb_unformatted_code = \"sp_artist[sp_artist[\\\"genres\\\"].isna() == False][\\\"genres\\\"].value_counts()[:50]\";\n",
       "                var nbb_formatted_code = \"sp_artist[sp_artist[\\\"genres\\\"].isna() == False][\\\"genres\\\"].value_counts()[:50]\";\n",
       "                var nbb_cells = Jupyter.notebook.get_cells();\n",
       "                for (var i = 0; i < nbb_cells.length; ++i) {\n",
       "                    if (nbb_cells[i].input_prompt_number == nbb_cell_id) {\n",
       "                        if (nbb_cells[i].get_text() == nbb_unformatted_code) {\n",
       "                             nbb_cells[i].set_text(nbb_formatted_code);\n",
       "                        }\n",
       "                        break;\n",
       "                    }\n",
       "                }\n",
       "            }, 500);\n",
       "            "
      ],
      "text/plain": [
       "<IPython.core.display.Javascript object>"
      ]
     },
     "metadata": {},
     "output_type": "display_data"
    }
   ],
   "source": [
    "sp_artist[sp_artist[\"genres\"].isna() == False][\"genres\"].value_counts()[:50]"
   ]
  },
  {
   "cell_type": "code",
   "execution_count": 22,
   "metadata": {},
   "outputs": [
    {
     "ename": "KeyError",
     "evalue": "'sp_tag'",
     "output_type": "error",
     "traceback": [
      "\u001b[0;31m---------------------------------------------------------------------------\u001b[0m",
      "\u001b[0;31mKeyError\u001b[0m                                  Traceback (most recent call last)",
      "\u001b[0;32m~/.local/lib/python3.8/site-packages/pandas/core/indexes/base.py\u001b[0m in \u001b[0;36mget_loc\u001b[0;34m(self, key, method, tolerance)\u001b[0m\n\u001b[1;32m   2894\u001b[0m             \u001b[0;32mtry\u001b[0m\u001b[0;34m:\u001b[0m\u001b[0;34m\u001b[0m\u001b[0;34m\u001b[0m\u001b[0m\n\u001b[0;32m-> 2895\u001b[0;31m                 \u001b[0;32mreturn\u001b[0m \u001b[0mself\u001b[0m\u001b[0;34m.\u001b[0m\u001b[0m_engine\u001b[0m\u001b[0;34m.\u001b[0m\u001b[0mget_loc\u001b[0m\u001b[0;34m(\u001b[0m\u001b[0mcasted_key\u001b[0m\u001b[0;34m)\u001b[0m\u001b[0;34m\u001b[0m\u001b[0;34m\u001b[0m\u001b[0m\n\u001b[0m\u001b[1;32m   2896\u001b[0m             \u001b[0;32mexcept\u001b[0m \u001b[0mKeyError\u001b[0m \u001b[0;32mas\u001b[0m \u001b[0merr\u001b[0m\u001b[0;34m:\u001b[0m\u001b[0;34m\u001b[0m\u001b[0;34m\u001b[0m\u001b[0m\n",
      "\u001b[0;32mpandas/_libs/index.pyx\u001b[0m in \u001b[0;36mpandas._libs.index.IndexEngine.get_loc\u001b[0;34m()\u001b[0m\n",
      "\u001b[0;32mpandas/_libs/index.pyx\u001b[0m in \u001b[0;36mpandas._libs.index.IndexEngine.get_loc\u001b[0;34m()\u001b[0m\n",
      "\u001b[0;32mpandas/_libs/hashtable_class_helper.pxi\u001b[0m in \u001b[0;36mpandas._libs.hashtable.PyObjectHashTable.get_item\u001b[0;34m()\u001b[0m\n",
      "\u001b[0;32mpandas/_libs/hashtable_class_helper.pxi\u001b[0m in \u001b[0;36mpandas._libs.hashtable.PyObjectHashTable.get_item\u001b[0;34m()\u001b[0m\n",
      "\u001b[0;31mKeyError\u001b[0m: 'sp_tag'",
      "\nThe above exception was the direct cause of the following exception:\n",
      "\u001b[0;31mKeyError\u001b[0m                                  Traceback (most recent call last)",
      "\u001b[0;32m<ipython-input-22-fad60c8b8194>\u001b[0m in \u001b[0;36m<module>\u001b[0;34m\u001b[0m\n\u001b[0;32m----> 1\u001b[0;31m \u001b[0msp_info\u001b[0m\u001b[0;34m[\u001b[0m\u001b[0;34m\"sp_tag\"\u001b[0m\u001b[0;34m]\u001b[0m\u001b[0;34m.\u001b[0m\u001b[0mvalue_counts\u001b[0m\u001b[0;34m(\u001b[0m\u001b[0;34m)\u001b[0m\u001b[0;34m\u001b[0m\u001b[0;34m\u001b[0m\u001b[0m\n\u001b[0m",
      "\u001b[0;32m~/.local/lib/python3.8/site-packages/pandas/core/frame.py\u001b[0m in \u001b[0;36m__getitem__\u001b[0;34m(self, key)\u001b[0m\n\u001b[1;32m   2904\u001b[0m             \u001b[0;32mif\u001b[0m \u001b[0mself\u001b[0m\u001b[0;34m.\u001b[0m\u001b[0mcolumns\u001b[0m\u001b[0;34m.\u001b[0m\u001b[0mnlevels\u001b[0m \u001b[0;34m>\u001b[0m \u001b[0;36m1\u001b[0m\u001b[0;34m:\u001b[0m\u001b[0;34m\u001b[0m\u001b[0;34m\u001b[0m\u001b[0m\n\u001b[1;32m   2905\u001b[0m                 \u001b[0;32mreturn\u001b[0m \u001b[0mself\u001b[0m\u001b[0;34m.\u001b[0m\u001b[0m_getitem_multilevel\u001b[0m\u001b[0;34m(\u001b[0m\u001b[0mkey\u001b[0m\u001b[0;34m)\u001b[0m\u001b[0;34m\u001b[0m\u001b[0;34m\u001b[0m\u001b[0m\n\u001b[0;32m-> 2906\u001b[0;31m             \u001b[0mindexer\u001b[0m \u001b[0;34m=\u001b[0m \u001b[0mself\u001b[0m\u001b[0;34m.\u001b[0m\u001b[0mcolumns\u001b[0m\u001b[0;34m.\u001b[0m\u001b[0mget_loc\u001b[0m\u001b[0;34m(\u001b[0m\u001b[0mkey\u001b[0m\u001b[0;34m)\u001b[0m\u001b[0;34m\u001b[0m\u001b[0;34m\u001b[0m\u001b[0m\n\u001b[0m\u001b[1;32m   2907\u001b[0m             \u001b[0;32mif\u001b[0m \u001b[0mis_integer\u001b[0m\u001b[0;34m(\u001b[0m\u001b[0mindexer\u001b[0m\u001b[0;34m)\u001b[0m\u001b[0;34m:\u001b[0m\u001b[0;34m\u001b[0m\u001b[0;34m\u001b[0m\u001b[0m\n\u001b[1;32m   2908\u001b[0m                 \u001b[0mindexer\u001b[0m \u001b[0;34m=\u001b[0m \u001b[0;34m[\u001b[0m\u001b[0mindexer\u001b[0m\u001b[0;34m]\u001b[0m\u001b[0;34m\u001b[0m\u001b[0;34m\u001b[0m\u001b[0m\n",
      "\u001b[0;32m~/.local/lib/python3.8/site-packages/pandas/core/indexes/base.py\u001b[0m in \u001b[0;36mget_loc\u001b[0;34m(self, key, method, tolerance)\u001b[0m\n\u001b[1;32m   2895\u001b[0m                 \u001b[0;32mreturn\u001b[0m \u001b[0mself\u001b[0m\u001b[0;34m.\u001b[0m\u001b[0m_engine\u001b[0m\u001b[0;34m.\u001b[0m\u001b[0mget_loc\u001b[0m\u001b[0;34m(\u001b[0m\u001b[0mcasted_key\u001b[0m\u001b[0;34m)\u001b[0m\u001b[0;34m\u001b[0m\u001b[0;34m\u001b[0m\u001b[0m\n\u001b[1;32m   2896\u001b[0m             \u001b[0;32mexcept\u001b[0m \u001b[0mKeyError\u001b[0m \u001b[0;32mas\u001b[0m \u001b[0merr\u001b[0m\u001b[0;34m:\u001b[0m\u001b[0;34m\u001b[0m\u001b[0;34m\u001b[0m\u001b[0m\n\u001b[0;32m-> 2897\u001b[0;31m                 \u001b[0;32mraise\u001b[0m \u001b[0mKeyError\u001b[0m\u001b[0;34m(\u001b[0m\u001b[0mkey\u001b[0m\u001b[0;34m)\u001b[0m \u001b[0;32mfrom\u001b[0m \u001b[0merr\u001b[0m\u001b[0;34m\u001b[0m\u001b[0;34m\u001b[0m\u001b[0m\n\u001b[0m\u001b[1;32m   2898\u001b[0m \u001b[0;34m\u001b[0m\u001b[0m\n\u001b[1;32m   2899\u001b[0m         \u001b[0;32mif\u001b[0m \u001b[0mtolerance\u001b[0m \u001b[0;32mis\u001b[0m \u001b[0;32mnot\u001b[0m \u001b[0;32mNone\u001b[0m\u001b[0;34m:\u001b[0m\u001b[0;34m\u001b[0m\u001b[0;34m\u001b[0m\u001b[0m\n",
      "\u001b[0;31mKeyError\u001b[0m: 'sp_tag'"
     ]
    },
    {
     "data": {
      "application/javascript": [
       "\n",
       "            setTimeout(function() {\n",
       "                var nbb_cell_id = 22;\n",
       "                var nbb_unformatted_code = \"sp_info[\\\"sp_tag\\\"].value_counts()\";\n",
       "                var nbb_formatted_code = \"sp_info[\\\"sp_tag\\\"].value_counts()\";\n",
       "                var nbb_cells = Jupyter.notebook.get_cells();\n",
       "                for (var i = 0; i < nbb_cells.length; ++i) {\n",
       "                    if (nbb_cells[i].input_prompt_number == nbb_cell_id) {\n",
       "                        if (nbb_cells[i].get_text() == nbb_unformatted_code) {\n",
       "                             nbb_cells[i].set_text(nbb_formatted_code);\n",
       "                        }\n",
       "                        break;\n",
       "                    }\n",
       "                }\n",
       "            }, 500);\n",
       "            "
      ],
      "text/plain": [
       "<IPython.core.display.Javascript object>"
      ]
     },
     "metadata": {},
     "output_type": "display_data"
    }
   ],
   "source": [
    "sp_info[\"sp_tag\"].value_counts()"
   ]
  },
  {
   "cell_type": "code",
   "execution_count": 190,
   "metadata": {},
   "outputs": [
    {
     "data": {
      "text/html": [
       "<div>\n",
       "<style scoped>\n",
       "    .dataframe tbody tr th:only-of-type {\n",
       "        vertical-align: middle;\n",
       "    }\n",
       "\n",
       "    .dataframe tbody tr th {\n",
       "        vertical-align: top;\n",
       "    }\n",
       "\n",
       "    .dataframe thead th {\n",
       "        text-align: right;\n",
       "    }\n",
       "</style>\n",
       "<table border=\"1\" class=\"dataframe\">\n",
       "  <thead>\n",
       "    <tr style=\"text-align: right;\">\n",
       "      <th></th>\n",
       "      <th>artist</th>\n",
       "      <th>title</th>\n",
       "      <th>sp_title</th>\n",
       "      <th>sp_song_id</th>\n",
       "      <th>sp_artist</th>\n",
       "      <th>sp_artist_id</th>\n",
       "      <th>uuid</th>\n",
       "      <th>fm_tag</th>\n",
       "      <th>sp_tag</th>\n",
       "    </tr>\n",
       "  </thead>\n",
       "  <tbody>\n",
       "    <tr>\n",
       "      <th>25</th>\n",
       "      <td>Busta Rhymes &amp; Q-Tip</td>\n",
       "      <td>Come on Down</td>\n",
       "      <td>Come On Down</td>\n",
       "      <td>6QVsM21qcGxQ0nNavgRAJQ</td>\n",
       "      <td>Big Daddy Kane</td>\n",
       "      <td>6futYSDVulYR2PktBjTB5W</td>\n",
       "      <td>ae8524ed-0600-49f1-8d2b-4c1b00bba0de</td>\n",
       "      <td>boom bap</td>\n",
       "      <td>boom bap</td>\n",
       "    </tr>\n",
       "    <tr>\n",
       "      <th>184</th>\n",
       "      <td>Ghetto Mafia</td>\n",
       "      <td>Deal With the Devil</td>\n",
       "      <td>Deal With The Devil</td>\n",
       "      <td>1R8wBvnnadcT9wGjLRtamS</td>\n",
       "      <td>Ghetto Mafia</td>\n",
       "      <td>00lKxTjBbv2FnmAVwEKstj</td>\n",
       "      <td>91dd5d6a-e5e3-4830-ac7e-6c7133309808</td>\n",
       "      <td>southern rap</td>\n",
       "      <td>southern rap</td>\n",
       "    </tr>\n",
       "    <tr>\n",
       "      <th>185</th>\n",
       "      <td>Ghetto Mafia</td>\n",
       "      <td>I Can Feel It</td>\n",
       "      <td>I Can Feel It</td>\n",
       "      <td>3cohjrFDoQXL7z2XkEWq8d</td>\n",
       "      <td>Ghetto Mafia</td>\n",
       "      <td>00lKxTjBbv2FnmAVwEKstj</td>\n",
       "      <td>fc4fe17d-7bd8-4661-a041-0b600305c7f3</td>\n",
       "      <td>southern rap</td>\n",
       "      <td>southern rap</td>\n",
       "    </tr>\n",
       "    <tr>\n",
       "      <th>186</th>\n",
       "      <td>Ghetto Mafia</td>\n",
       "      <td>In the Paint</td>\n",
       "      <td>In Da Paint</td>\n",
       "      <td>4lom8bomHPRPj1JfUHrSYE</td>\n",
       "      <td>Ghetto Mafia</td>\n",
       "      <td>00lKxTjBbv2FnmAVwEKstj</td>\n",
       "      <td>2ec54daf-ef78-4980-84bc-484633adea65</td>\n",
       "      <td>southern rap</td>\n",
       "      <td>southern rap</td>\n",
       "    </tr>\n",
       "    <tr>\n",
       "      <th>191</th>\n",
       "      <td>Ghetto Mafia</td>\n",
       "      <td>Don’t Turn Back</td>\n",
       "      <td>Dont Turn Back</td>\n",
       "      <td>0v8ocuaK8JeNjrWTpQdqD2</td>\n",
       "      <td>Ghetto Mafia</td>\n",
       "      <td>00lKxTjBbv2FnmAVwEKstj</td>\n",
       "      <td>614a5ae3-ad7c-404f-a207-04f416e51aaf</td>\n",
       "      <td>southern rap</td>\n",
       "      <td>southern rap</td>\n",
       "    </tr>\n",
       "    <tr>\n",
       "      <th>...</th>\n",
       "      <td>...</td>\n",
       "      <td>...</td>\n",
       "      <td>...</td>\n",
       "      <td>...</td>\n",
       "      <td>...</td>\n",
       "      <td>...</td>\n",
       "      <td>...</td>\n",
       "      <td>...</td>\n",
       "      <td>...</td>\n",
       "    </tr>\n",
       "    <tr>\n",
       "      <th>9613</th>\n",
       "      <td>Odd Squad</td>\n",
       "      <td>Da Squad</td>\n",
       "      <td>Fix Your Face (Trap Mix)</td>\n",
       "      <td>6WKT3FuLMOkjfalyu6dkCo</td>\n",
       "      <td>Ying Yang Twins</td>\n",
       "      <td>44PA0rCQXikgOWbfY7Fq7m</td>\n",
       "      <td>3ef9b687-53d4-4c2f-844e-f647dca89b66</td>\n",
       "      <td>southern rap</td>\n",
       "      <td>southern rap</td>\n",
       "    </tr>\n",
       "    <tr>\n",
       "      <th>9714</th>\n",
       "      <td>Lil Yachty</td>\n",
       "      <td>Buzzin’</td>\n",
       "      <td>BUZZIN' (feat. Lil Yachty &amp; Murda Beatz)</td>\n",
       "      <td>67gsMz7IUC9sun9DuUqVDE</td>\n",
       "      <td>PARTYNEXTDOOR</td>\n",
       "      <td>2HPaUgqeutzr3jx5a9WyDV</td>\n",
       "      <td>22a9f3ec-c02f-4026-9dac-fe0f78b8dcdd</td>\n",
       "      <td>trap</td>\n",
       "      <td>trap</td>\n",
       "    </tr>\n",
       "    <tr>\n",
       "      <th>9728</th>\n",
       "      <td>Lil Yachty</td>\n",
       "      <td>Lil Boat</td>\n",
       "      <td>Lil Boat (feat. Lil Yachty) - Remix</td>\n",
       "      <td>2FIhb6DvwTdFf6yOWNI74G</td>\n",
       "      <td>88GLAM</td>\n",
       "      <td>2I9SLklAOG0vdMiUUMNxRl</td>\n",
       "      <td>affcf491-f889-4e6b-95e4-4bb289829d04</td>\n",
       "      <td>trap</td>\n",
       "      <td>trap</td>\n",
       "    </tr>\n",
       "    <tr>\n",
       "      <th>9802</th>\n",
       "      <td>Chalie Boy</td>\n",
       "      <td>I Look Good</td>\n",
       "      <td>I Look Good</td>\n",
       "      <td>65PAx3F8JYA1dJNufkn8Tm</td>\n",
       "      <td>Chalie Boy</td>\n",
       "      <td>5c6zqnWXNHg6PJrJtAARpk</td>\n",
       "      <td>7441dcff-5c5a-4eda-8794-20588feb337e</td>\n",
       "      <td>southern rap</td>\n",
       "      <td>southern rap</td>\n",
       "    </tr>\n",
       "    <tr>\n",
       "      <th>9805</th>\n",
       "      <td>Chalie Boy</td>\n",
       "      <td>Crush</td>\n",
       "      <td>Crush</td>\n",
       "      <td>1ZkvC4ux8KZalTRrQga7KB</td>\n",
       "      <td>Chalie Boy</td>\n",
       "      <td>5c6zqnWXNHg6PJrJtAARpk</td>\n",
       "      <td>e473db87-4a55-43a7-b815-bf81948e3682</td>\n",
       "      <td>southern rap</td>\n",
       "      <td>southern rap</td>\n",
       "    </tr>\n",
       "  </tbody>\n",
       "</table>\n",
       "<p>1279 rows × 9 columns</p>\n",
       "</div>"
      ],
      "text/plain": [
       "                    artist                title  \\\n",
       "25    Busta Rhymes & Q-Tip         Come on Down   \n",
       "184           Ghetto Mafia  Deal With the Devil   \n",
       "185           Ghetto Mafia        I Can Feel It   \n",
       "186           Ghetto Mafia         In the Paint   \n",
       "191           Ghetto Mafia      Don’t Turn Back   \n",
       "...                    ...                  ...   \n",
       "9613             Odd Squad             Da Squad   \n",
       "9714            Lil Yachty              Buzzin’   \n",
       "9728            Lil Yachty             Lil Boat   \n",
       "9802            Chalie Boy          I Look Good   \n",
       "9805            Chalie Boy                Crush   \n",
       "\n",
       "                                      sp_title              sp_song_id  \\\n",
       "25                                Come On Down  6QVsM21qcGxQ0nNavgRAJQ   \n",
       "184                        Deal With The Devil  1R8wBvnnadcT9wGjLRtamS   \n",
       "185                              I Can Feel It  3cohjrFDoQXL7z2XkEWq8d   \n",
       "186                                In Da Paint  4lom8bomHPRPj1JfUHrSYE   \n",
       "191                             Dont Turn Back  0v8ocuaK8JeNjrWTpQdqD2   \n",
       "...                                        ...                     ...   \n",
       "9613                  Fix Your Face (Trap Mix)  6WKT3FuLMOkjfalyu6dkCo   \n",
       "9714  BUZZIN' (feat. Lil Yachty & Murda Beatz)  67gsMz7IUC9sun9DuUqVDE   \n",
       "9728       Lil Boat (feat. Lil Yachty) - Remix  2FIhb6DvwTdFf6yOWNI74G   \n",
       "9802                               I Look Good  65PAx3F8JYA1dJNufkn8Tm   \n",
       "9805                                     Crush  1ZkvC4ux8KZalTRrQga7KB   \n",
       "\n",
       "            sp_artist            sp_artist_id  \\\n",
       "25     Big Daddy Kane  6futYSDVulYR2PktBjTB5W   \n",
       "184      Ghetto Mafia  00lKxTjBbv2FnmAVwEKstj   \n",
       "185      Ghetto Mafia  00lKxTjBbv2FnmAVwEKstj   \n",
       "186      Ghetto Mafia  00lKxTjBbv2FnmAVwEKstj   \n",
       "191      Ghetto Mafia  00lKxTjBbv2FnmAVwEKstj   \n",
       "...               ...                     ...   \n",
       "9613  Ying Yang Twins  44PA0rCQXikgOWbfY7Fq7m   \n",
       "9714    PARTYNEXTDOOR  2HPaUgqeutzr3jx5a9WyDV   \n",
       "9728           88GLAM  2I9SLklAOG0vdMiUUMNxRl   \n",
       "9802       Chalie Boy  5c6zqnWXNHg6PJrJtAARpk   \n",
       "9805       Chalie Boy  5c6zqnWXNHg6PJrJtAARpk   \n",
       "\n",
       "                                      uuid        fm_tag        sp_tag  \n",
       "25    ae8524ed-0600-49f1-8d2b-4c1b00bba0de      boom bap      boom bap  \n",
       "184   91dd5d6a-e5e3-4830-ac7e-6c7133309808  southern rap  southern rap  \n",
       "185   fc4fe17d-7bd8-4661-a041-0b600305c7f3  southern rap  southern rap  \n",
       "186   2ec54daf-ef78-4980-84bc-484633adea65  southern rap  southern rap  \n",
       "191   614a5ae3-ad7c-404f-a207-04f416e51aaf  southern rap  southern rap  \n",
       "...                                    ...           ...           ...  \n",
       "9613  3ef9b687-53d4-4c2f-844e-f647dca89b66  southern rap  southern rap  \n",
       "9714  22a9f3ec-c02f-4026-9dac-fe0f78b8dcdd          trap          trap  \n",
       "9728  affcf491-f889-4e6b-95e4-4bb289829d04          trap          trap  \n",
       "9802  7441dcff-5c5a-4eda-8794-20588feb337e  southern rap  southern rap  \n",
       "9805  e473db87-4a55-43a7-b815-bf81948e3682  southern rap  southern rap  \n",
       "\n",
       "[1279 rows x 9 columns]"
      ]
     },
     "execution_count": 190,
     "metadata": {},
     "output_type": "execute_result"
    },
    {
     "data": {
      "application/javascript": [
       "\n",
       "            setTimeout(function() {\n",
       "                var nbb_cell_id = 190;\n",
       "                var nbb_unformatted_code = \"sp_info[sp_info[\\\"sp_tag\\\"] == sp_info[\\\"fm_tag\\\"]]\";\n",
       "                var nbb_formatted_code = \"sp_info[sp_info[\\\"sp_tag\\\"] == sp_info[\\\"fm_tag\\\"]]\";\n",
       "                var nbb_cells = Jupyter.notebook.get_cells();\n",
       "                for (var i = 0; i < nbb_cells.length; ++i) {\n",
       "                    if (nbb_cells[i].input_prompt_number == nbb_cell_id) {\n",
       "                        if (nbb_cells[i].get_text() == nbb_unformatted_code) {\n",
       "                             nbb_cells[i].set_text(nbb_formatted_code);\n",
       "                        }\n",
       "                        break;\n",
       "                    }\n",
       "                }\n",
       "            }, 500);\n",
       "            "
      ],
      "text/plain": [
       "<IPython.core.display.Javascript object>"
      ]
     },
     "metadata": {},
     "output_type": "display_data"
    }
   ],
   "source": [
    "sp_info[sp_info[\"sp_tag\"] == sp_info[\"fm_tag\"]]"
   ]
  },
  {
   "cell_type": "code",
   "execution_count": 27,
   "metadata": {},
   "outputs": [
    {
     "data": {
      "text/plain": [
       "Index(['southern rap', 'West coast rap', 'boom bap', 'alternative rap',\n",
       "       'other rap', 'trap', 'southern rap, trap', 'alternative rap, trap',\n",
       "       'alternative rap, southern rap', 'alternative rap, boom bap',\n",
       "       'East coast rap, trap', 'boom bap, East coast rap',\n",
       "       'boom bap, gangsta rap', 'East coast rap', 'hyphy',\n",
       "       'hyphy, West coast rap', 'alternative rap, boom bap, East coast rap',\n",
       "       'boom bap, gangsta rap, East coast rap, southern rap',\n",
       "       'boom bap, gangsta rap, East coast rap'],\n",
       "      dtype='object')"
      ]
     },
     "execution_count": 27,
     "metadata": {},
     "output_type": "execute_result"
    },
    {
     "data": {
      "application/javascript": [
       "\n",
       "            setTimeout(function() {\n",
       "                var nbb_cell_id = 27;\n",
       "                var nbb_unformatted_code = \"sp_info[(sp_info[\\\"sp_tag\\\"].isna() == False) & (sp_info[\\\"fm_tag\\\"].isna())][\\n    \\\"sp_tag\\\"\\n].value_counts().index\";\n",
       "                var nbb_formatted_code = \"sp_info[(sp_info[\\\"sp_tag\\\"].isna() == False) & (sp_info[\\\"fm_tag\\\"].isna())][\\n    \\\"sp_tag\\\"\\n].value_counts().index\";\n",
       "                var nbb_cells = Jupyter.notebook.get_cells();\n",
       "                for (var i = 0; i < nbb_cells.length; ++i) {\n",
       "                    if (nbb_cells[i].input_prompt_number == nbb_cell_id) {\n",
       "                        if (nbb_cells[i].get_text() == nbb_unformatted_code) {\n",
       "                             nbb_cells[i].set_text(nbb_formatted_code);\n",
       "                        }\n",
       "                        break;\n",
       "                    }\n",
       "                }\n",
       "            }, 500);\n",
       "            "
      ],
      "text/plain": [
       "<IPython.core.display.Javascript object>"
      ]
     },
     "metadata": {},
     "output_type": "display_data"
    }
   ],
   "source": [
    "sp_info[(sp_info[\"sp_tag\"].isna() == False) & (sp_info[\"fm_tag\"].isna())][\n",
    "    \"sp_tag\"\n",
    "].value_counts().index"
   ]
  },
  {
   "cell_type": "code",
   "execution_count": 29,
   "metadata": {},
   "outputs": [
    {
     "data": {
      "application/javascript": [
       "\n",
       "            setTimeout(function() {\n",
       "                var nbb_cell_id = 29;\n",
       "                var nbb_unformatted_code = \"sp_info.loc[\\n    (sp_info[\\\"sp_tag\\\"] == \\\"southern rap\\\") & (sp_info[\\\"fm_tag\\\"].isna()), \\\"fm_tag\\\"\\n] = 'southern rap'\";\n",
       "                var nbb_formatted_code = \"sp_info.loc[\\n    (sp_info[\\\"sp_tag\\\"] == \\\"southern rap\\\") & (sp_info[\\\"fm_tag\\\"].isna()), \\\"fm_tag\\\"\\n] = \\\"southern rap\\\"\";\n",
       "                var nbb_cells = Jupyter.notebook.get_cells();\n",
       "                for (var i = 0; i < nbb_cells.length; ++i) {\n",
       "                    if (nbb_cells[i].input_prompt_number == nbb_cell_id) {\n",
       "                        if (nbb_cells[i].get_text() == nbb_unformatted_code) {\n",
       "                             nbb_cells[i].set_text(nbb_formatted_code);\n",
       "                        }\n",
       "                        break;\n",
       "                    }\n",
       "                }\n",
       "            }, 500);\n",
       "            "
      ],
      "text/plain": [
       "<IPython.core.display.Javascript object>"
      ]
     },
     "metadata": {},
     "output_type": "display_data"
    }
   ],
   "source": [
    "sp_info.loc[\n",
    "    (sp_info[\"sp_tag\"] == \"southern rap\") & (sp_info[\"fm_tag\"].isna()), \"fm_tag\"\n",
    "] = \"southern rap\""
   ]
  },
  {
   "cell_type": "code",
   "execution_count": 30,
   "metadata": {},
   "outputs": [
    {
     "data": {
      "application/javascript": [
       "\n",
       "            setTimeout(function() {\n",
       "                var nbb_cell_id = 30;\n",
       "                var nbb_unformatted_code = \"def genre_trans(sp_tag, fm_tag):\\n    sp_info.loc[\\n    (sp_info[\\\"sp_tag\\\"] == sp_tag) & (sp_info[\\\"fm_tag\\\"].isna()), \\\"fm_tag\\\"\\n] = fm_tag\";\n",
       "                var nbb_formatted_code = \"def genre_trans(sp_tag, fm_tag):\\n    sp_info.loc[\\n        (sp_info[\\\"sp_tag\\\"] == sp_tag) & (sp_info[\\\"fm_tag\\\"].isna()), \\\"fm_tag\\\"\\n    ] = fm_tag\";\n",
       "                var nbb_cells = Jupyter.notebook.get_cells();\n",
       "                for (var i = 0; i < nbb_cells.length; ++i) {\n",
       "                    if (nbb_cells[i].input_prompt_number == nbb_cell_id) {\n",
       "                        if (nbb_cells[i].get_text() == nbb_unformatted_code) {\n",
       "                             nbb_cells[i].set_text(nbb_formatted_code);\n",
       "                        }\n",
       "                        break;\n",
       "                    }\n",
       "                }\n",
       "            }, 500);\n",
       "            "
      ],
      "text/plain": [
       "<IPython.core.display.Javascript object>"
      ]
     },
     "metadata": {},
     "output_type": "display_data"
    }
   ],
   "source": [
    "def genre_trans(sp_tag, fm_tag):\n",
    "    sp_info.loc[\n",
    "        (sp_info[\"sp_tag\"] == sp_tag) & (sp_info[\"fm_tag\"].isna()), \"fm_tag\"\n",
    "    ] = fm_tag"
   ]
  },
  {
   "cell_type": "code",
   "execution_count": 33,
   "metadata": {},
   "outputs": [
    {
     "data": {
      "application/javascript": [
       "\n",
       "            setTimeout(function() {\n",
       "                var nbb_cell_id = 33;\n",
       "                var nbb_unformatted_code = \"genre_trans(\\\"West coast rap\\\", \\\"West coast rap\\\")\\ngenre_trans(\\\"southern rap\\\",\\\"southern rap\\\")\\ngenre_trans('boom bap', 'boom bap')\\ngenre_trans('alternative rap', 'alternative rap')\\ngenre_trans('trap','trap')\\ngenre_trans('southern rap, trap', 'southern rap')\\ngenre_trans('East coast rap', 'East coast rap')\\ngenre_trans('hyphy', 'hyphy')\\n\\ngenre_trans('alternative rap, boom bap, East coast rap', 'East coast rap')\\ngenre_trans('boom bap, gangsta rap, East coast rap, southern rap', 'East coast rap')\\ngenre_trans('boom bap, gangsta rap, East coast rap', 'East coast rap')\\ngenre_trans('hyphy, West coast rap', 'hyphy')\\ngenre_trans('alternative rap, trap', 'alternative rap')\\ngenre_trans('East coast rap, trap', 'trap')\\ngenre_trans('boom bap, East coast rap', 'East coast rap')\\ngenre_trans('boom bap, gangsta rap', 'boom bap')\\ngenre_trans('alternative rap, southern rap', 'alternative rap')\\ngenre_trans('alternative rap, boom bap', 'alternative rap')\";\n",
       "                var nbb_formatted_code = \"genre_trans(\\\"West coast rap\\\", \\\"West coast rap\\\")\\ngenre_trans(\\\"southern rap\\\", \\\"southern rap\\\")\\ngenre_trans(\\\"boom bap\\\", \\\"boom bap\\\")\\ngenre_trans(\\\"alternative rap\\\", \\\"alternative rap\\\")\\ngenre_trans(\\\"trap\\\", \\\"trap\\\")\\ngenre_trans(\\\"southern rap, trap\\\", \\\"southern rap\\\")\\ngenre_trans(\\\"East coast rap\\\", \\\"East coast rap\\\")\\ngenre_trans(\\\"hyphy\\\", \\\"hyphy\\\")\\n\\ngenre_trans(\\\"alternative rap, boom bap, East coast rap\\\", \\\"East coast rap\\\")\\ngenre_trans(\\\"boom bap, gangsta rap, East coast rap, southern rap\\\", \\\"East coast rap\\\")\\ngenre_trans(\\\"boom bap, gangsta rap, East coast rap\\\", \\\"East coast rap\\\")\\ngenre_trans(\\\"hyphy, West coast rap\\\", \\\"hyphy\\\")\\ngenre_trans(\\\"alternative rap, trap\\\", \\\"alternative rap\\\")\\ngenre_trans(\\\"East coast rap, trap\\\", \\\"trap\\\")\\ngenre_trans(\\\"boom bap, East coast rap\\\", \\\"East coast rap\\\")\\ngenre_trans(\\\"boom bap, gangsta rap\\\", \\\"boom bap\\\")\\ngenre_trans(\\\"alternative rap, southern rap\\\", \\\"alternative rap\\\")\\ngenre_trans(\\\"alternative rap, boom bap\\\", \\\"alternative rap\\\")\";\n",
       "                var nbb_cells = Jupyter.notebook.get_cells();\n",
       "                for (var i = 0; i < nbb_cells.length; ++i) {\n",
       "                    if (nbb_cells[i].input_prompt_number == nbb_cell_id) {\n",
       "                        if (nbb_cells[i].get_text() == nbb_unformatted_code) {\n",
       "                             nbb_cells[i].set_text(nbb_formatted_code);\n",
       "                        }\n",
       "                        break;\n",
       "                    }\n",
       "                }\n",
       "            }, 500);\n",
       "            "
      ],
      "text/plain": [
       "<IPython.core.display.Javascript object>"
      ]
     },
     "metadata": {},
     "output_type": "display_data"
    }
   ],
   "source": [
    "genre_trans(\"West coast rap\", \"West coast rap\")\n",
    "genre_trans(\"southern rap\", \"southern rap\")\n",
    "genre_trans(\"boom bap\", \"boom bap\")\n",
    "genre_trans(\"alternative rap\", \"alternative rap\")\n",
    "genre_trans(\"trap\", \"trap\")\n",
    "genre_trans(\"southern rap, trap\", \"southern rap\")\n",
    "genre_trans(\"East coast rap\", \"East coast rap\")\n",
    "genre_trans(\"hyphy\", \"hyphy\")\n",
    "\n",
    "genre_trans(\"alternative rap, boom bap, East coast rap\", \"East coast rap\")\n",
    "genre_trans(\"boom bap, gangsta rap, East coast rap, southern rap\", \"East coast rap\")\n",
    "genre_trans(\"boom bap, gangsta rap, East coast rap\", \"East coast rap\")\n",
    "genre_trans(\"hyphy, West coast rap\", \"hyphy\")\n",
    "genre_trans(\"alternative rap, trap\", \"alternative rap\")\n",
    "genre_trans(\"East coast rap, trap\", \"trap\")\n",
    "genre_trans(\"boom bap, East coast rap\", \"East coast rap\")\n",
    "genre_trans(\"boom bap, gangsta rap\", \"boom bap\")\n",
    "genre_trans(\"alternative rap, southern rap\", \"alternative rap\")\n",
    "genre_trans(\"alternative rap, boom bap\", \"alternative rap\")"
   ]
  },
  {
   "cell_type": "code",
   "execution_count": 34,
   "metadata": {},
   "outputs": [
    {
     "data": {
      "text/plain": [
       "trap               1432\n",
       "alternative rap    1384\n",
       "southern rap        965\n",
       "West coast rap      731\n",
       "gangsta rap         710\n",
       "boom bap            483\n",
       "East coast rap      410\n",
       "conscious rap       406\n",
       "crunk               403\n",
       "hyphy               224\n",
       "Name: fm_tag, dtype: int64"
      ]
     },
     "execution_count": 34,
     "metadata": {},
     "output_type": "execute_result"
    },
    {
     "data": {
      "application/javascript": [
       "\n",
       "            setTimeout(function() {\n",
       "                var nbb_cell_id = 34;\n",
       "                var nbb_unformatted_code = \"sp_info['fm_tag'].value_counts()\";\n",
       "                var nbb_formatted_code = \"sp_info[\\\"fm_tag\\\"].value_counts()\";\n",
       "                var nbb_cells = Jupyter.notebook.get_cells();\n",
       "                for (var i = 0; i < nbb_cells.length; ++i) {\n",
       "                    if (nbb_cells[i].input_prompt_number == nbb_cell_id) {\n",
       "                        if (nbb_cells[i].get_text() == nbb_unformatted_code) {\n",
       "                             nbb_cells[i].set_text(nbb_formatted_code);\n",
       "                        }\n",
       "                        break;\n",
       "                    }\n",
       "                }\n",
       "            }, 500);\n",
       "            "
      ],
      "text/plain": [
       "<IPython.core.display.Javascript object>"
      ]
     },
     "metadata": {},
     "output_type": "display_data"
    }
   ],
   "source": [
    "sp_info[\"fm_tag\"].value_counts()"
   ]
  },
  {
   "cell_type": "code",
   "execution_count": 35,
   "metadata": {},
   "outputs": [
    {
     "data": {
      "application/javascript": [
       "\n",
       "            setTimeout(function() {\n",
       "                var nbb_cell_id = 35;\n",
       "                var nbb_unformatted_code = \"sp_info.to_csv('../data/sp_info_tagged.csv')\";\n",
       "                var nbb_formatted_code = \"sp_info.to_csv(\\\"../data/sp_info_tagged.csv\\\")\";\n",
       "                var nbb_cells = Jupyter.notebook.get_cells();\n",
       "                for (var i = 0; i < nbb_cells.length; ++i) {\n",
       "                    if (nbb_cells[i].input_prompt_number == nbb_cell_id) {\n",
       "                        if (nbb_cells[i].get_text() == nbb_unformatted_code) {\n",
       "                             nbb_cells[i].set_text(nbb_formatted_code);\n",
       "                        }\n",
       "                        break;\n",
       "                    }\n",
       "                }\n",
       "            }, 500);\n",
       "            "
      ],
      "text/plain": [
       "<IPython.core.display.Javascript object>"
      ]
     },
     "metadata": {},
     "output_type": "display_data"
    }
   ],
   "source": [
    "sp_info.to_csv(\"../data/sp_info_tagged.csv\")"
   ]
  },
  {
   "cell_type": "code",
   "execution_count": null,
   "metadata": {},
   "outputs": [],
   "source": [
    "sp_info.loc[\n",
    "    (sp_info[\"sp_tag\"] == 'West coast rap') & (sp_info[\"fm_tag\"].isna()), \"fm_tag\"\n",
    "] = 'West coast rap'\n",
    "\n",
    "sp_info.loc[\n",
    "    (sp_info[\"sp_tag\"] == \"southern rap\") & (sp_info[\"fm_tag\"].isna()), \"fm_tag\"\n",
    "] = \"southern rap\"\n",
    "\n",
    "sp_info.loc[\n",
    "    (sp_info[\"sp_tag\"] == \"southern rap\") & (sp_info[\"fm_tag\"].isna()), \"fm_tag\"\n",
    "] = \"southern rap\"\n",
    "\n",
    "sp_info.loc[\n",
    "    (sp_info[\"sp_tag\"] == \"southern rap\") & (sp_info[\"fm_tag\"].isna()), \"fm_tag\"\n",
    "] = \"southern rap\"\n",
    "\n",
    "sp_info.loc[\n",
    "    (sp_info[\"sp_tag\"] == \"southern rap\") & (sp_info[\"fm_tag\"].isna()), \"fm_tag\"\n",
    "] = \"southern rap\"\n",
    "\n",
    "sp_info.loc[\n",
    "    (sp_info[\"sp_tag\"] == \"southern rap\") & (sp_info[\"fm_tag\"].isna()), \"fm_tag\"\n",
    "] = \"southern rap\"\n",
    "\n",
    "sp_info.loc[\n",
    "    (sp_info[\"sp_tag\"] == \"southern rap\") & (sp_info[\"fm_tag\"].isna()), \"fm_tag\"\n",
    "] = \"southern rap\"\n",
    "\n",
    "sp_info.loc[\n",
    "    (sp_info[\"sp_tag\"] == \"southern rap\") & (sp_info[\"fm_tag\"].isna()), \"fm_tag\"\n",
    "] = \"southern rap\""
   ]
  },
  {
   "cell_type": "code",
   "execution_count": 23,
   "metadata": {},
   "outputs": [
    {
     "data": {
      "application/javascript": [
       "\n",
       "            setTimeout(function() {\n",
       "                var nbb_cell_id = 23;\n",
       "                var nbb_unformatted_code = \"for i in range(df.shape[0]):\\n    song_vote = vote_dict.copy()\\n    sp_id = df.loc[i, \\\"sp_song_id\\\"]\\n    #     a_ids = sp_features[sp_features[\\\"id\\\"] == sp_id][\\\"artist_ids\\\"]\\n    a_ids = sp_info[sp_info[\\\"sp_song_id\\\"] == sp_id][\\\"sp_artist_id\\\"]\\n    genres = []\\n    for a in a_ids:\\n        a_genre = sp_artist.loc[sp_artist[\\\"artist_id\\\"] == a, \\\"genres\\\"].values\\n\\n        if len(a_genre) > 0:\\n            if type(a_genre[0]) != float:\\n\\n                genres.append(a_genre[0])\\n\\n    for g in \\\", \\\".join(genres).split(\\\", \\\"):\\n        for k in song_vote.keys():\\n            if g in sp_genre_trans[k]:\\n                song_vote[k] += 1\\n    max_val = max(song_vote.values())\\n    if max_val > 0:\\n        sp_genre_tags = [x[0] for x in song_vote.items() if x[1] == max_val]\\n        sp_genre_tags = \\\", \\\".join(sp_genre_tags)\\n        sp_info.loc[sp_info[\\\"sp_song_id\\\"] == sp_id, \\\"sp_tag\\\"] = sp_genre_tags\\n    else:\\n        for g in \\\", \\\".join(genres).split(\\\", \\\"):\\n            if g in other:\\n                sp_info.loc[sp_info[\\\"sp_song_id\\\"] == sp_id, \\\"sp_tag\\\"] = \\\"other rap\\\"\\n                break\\n#     print(max(song_vote.values()))\\n#     print(max(song_vote, key=song_vote.get))\\n#     print(song_vote)\";\n",
       "                var nbb_formatted_code = \"for i in range(df.shape[0]):\\n    song_vote = vote_dict.copy()\\n    sp_id = df.loc[i, \\\"sp_song_id\\\"]\\n    #     a_ids = sp_features[sp_features[\\\"id\\\"] == sp_id][\\\"artist_ids\\\"]\\n    a_ids = sp_info[sp_info[\\\"sp_song_id\\\"] == sp_id][\\\"sp_artist_id\\\"]\\n    genres = []\\n    for a in a_ids:\\n        a_genre = sp_artist.loc[sp_artist[\\\"artist_id\\\"] == a, \\\"genres\\\"].values\\n\\n        if len(a_genre) > 0:\\n            if type(a_genre[0]) != float:\\n\\n                genres.append(a_genre[0])\\n\\n    for g in \\\", \\\".join(genres).split(\\\", \\\"):\\n        for k in song_vote.keys():\\n            if g in sp_genre_trans[k]:\\n                song_vote[k] += 1\\n    max_val = max(song_vote.values())\\n    if max_val > 0:\\n        sp_genre_tags = [x[0] for x in song_vote.items() if x[1] == max_val]\\n        sp_genre_tags = \\\", \\\".join(sp_genre_tags)\\n        sp_info.loc[sp_info[\\\"sp_song_id\\\"] == sp_id, \\\"sp_tag\\\"] = sp_genre_tags\\n    else:\\n        for g in \\\", \\\".join(genres).split(\\\", \\\"):\\n            if g in other:\\n                sp_info.loc[sp_info[\\\"sp_song_id\\\"] == sp_id, \\\"sp_tag\\\"] = \\\"other rap\\\"\\n                break\\n#     print(max(song_vote.values()))\\n#     print(max(song_vote, key=song_vote.get))\\n#     print(song_vote)\";\n",
       "                var nbb_cells = Jupyter.notebook.get_cells();\n",
       "                for (var i = 0; i < nbb_cells.length; ++i) {\n",
       "                    if (nbb_cells[i].input_prompt_number == nbb_cell_id) {\n",
       "                        if (nbb_cells[i].get_text() == nbb_unformatted_code) {\n",
       "                             nbb_cells[i].set_text(nbb_formatted_code);\n",
       "                        }\n",
       "                        break;\n",
       "                    }\n",
       "                }\n",
       "            }, 500);\n",
       "            "
      ],
      "text/plain": [
       "<IPython.core.display.Javascript object>"
      ]
     },
     "metadata": {},
     "output_type": "display_data"
    }
   ],
   "source": [
    "for i in range(df.shape[0]):\n",
    "    song_vote = vote_dict.copy()\n",
    "    sp_id = df.loc[i, \"sp_song_id\"]\n",
    "    #     a_ids = sp_features[sp_features[\"id\"] == sp_id][\"artist_ids\"]\n",
    "    a_ids = sp_info[sp_info[\"sp_song_id\"] == sp_id][\"sp_artist_id\"]\n",
    "    genres = []\n",
    "    for a in a_ids:\n",
    "        a_genre = sp_artist.loc[sp_artist[\"artist_id\"] == a, \"genres\"].values\n",
    "\n",
    "        if len(a_genre) > 0:\n",
    "            if type(a_genre[0]) != float:\n",
    "\n",
    "                genres.append(a_genre[0])\n",
    "\n",
    "    for g in \", \".join(genres).split(\", \"):\n",
    "        for k in song_vote.keys():\n",
    "            if g in sp_genre_trans[k]:\n",
    "                song_vote[k] += 1\n",
    "    max_val = max(song_vote.values())\n",
    "    if max_val > 0:\n",
    "        sp_genre_tags = [x[0] for x in song_vote.items() if x[1] == max_val]\n",
    "        sp_genre_tags = \", \".join(sp_genre_tags)\n",
    "        sp_info.loc[sp_info[\"sp_song_id\"] == sp_id, \"sp_tag\"] = sp_genre_tags\n",
    "    else:\n",
    "        for g in \", \".join(genres).split(\", \"):\n",
    "            if g in other:\n",
    "                sp_info.loc[sp_info[\"sp_song_id\"] == sp_id, \"sp_tag\"] = \"other rap\"\n",
    "                break\n",
    "#     print(max(song_vote.values()))\n",
    "#     print(max(song_vote, key=song_vote.get))\n",
    "#     print(song_vote)"
   ]
  },
  {
   "cell_type": "code",
   "execution_count": 32,
   "metadata": {},
   "outputs": [
    {
     "name": "stdout",
     "output_type": "stream",
     "text": [
      "---------------\n",
      "---------------\n",
      "alternative rap\n",
      "---------------\n",
      "Index(['uk alternative hip hop', 'emo rap', 'dark trap', 'sad rap',\n",
      "       'southern hip hop', 'polish alternative rap', 'rap',\n",
      "       'canadian contemporary r&b', 'underground hip hop', 'hip hop',\n",
      "       'german trap', 'london rap', 'dance pop', 'pop urbaine', 'pop rap',\n",
      "       'abstract hip hop', 'soundtrack', 'irish hip hop', 'wu fam',\n",
      "       'vapor trap', 'trap brasileiro', 'industrial hip hop',\n",
      "       'compositional ambient', 'taiwan hip hop', 'trap', 'jazz harp',\n",
      "       'indie r&b', 'classical', 'american contemporary classical',\n",
      "       'russian trap'],\n",
      "      dtype='object')\n",
      "---------------\n",
      "---------------\n",
      "boom bap\n",
      "---------------\n",
      "Index(['colombian hip hop', 'east coast hip hop', 'hardcore hip hop',\n",
      "       'jazz boom bap', 'hip hop', 'colombian rock', 'norwegian rock',\n",
      "       'rap conciencia', 'boom bap', 'electro', 'rap', 'old school hip hop',\n",
      "       'norwegian pop', 'norwegian indie', 'gangster rap', 'electropop',\n",
      "       'halifax indie', 'rap underground colombiano', 'turntablism',\n",
      "       'polish alternative rap', 'alternative hip hop', 'jazz rap'],\n",
      "      dtype='object')\n",
      "---------------\n",
      "---------------\n",
      "conscious rap\n",
      "---------------\n",
      "Index(['italian underground hip hop', 'christian trap', 'post-hardcore',\n",
      "       'christian hip hop', 'dance-punk', 'italian indie pop', 'rap tunisien',\n",
      "       'experimental', 'art punk', 'escape room', 'post-punk',\n",
      "       'experimental rock', 'broadway', 'ambeat', 'dance rock', 'uk post-punk',\n",
      "       'psychedelic rock', 'german underground rap', 'alternative rock',\n",
      "       'punk', 'garage psych', 'art rock', 'bulgarian hip hop', 'gbvfi',\n",
      "       'german alternative rap', 'rap napoletano', 'uk noise rock',\n",
      "       'punk blues', 'arabic hip hop', 'new wave'],\n",
      "      dtype='object')\n",
      "---------------\n",
      "---------------\n",
      "gangsta rap\n",
      "---------------\n",
      "Index(['gangster rap', 'west coast rap', 'g funk', 'hip hop',\n",
      "       'west coast trap', 'rap', 'hyphy', 'hardcore hip hop',\n",
      "       'sacramento hip hop', 'pop rap', 'dirty south rap', 'southern hip hop',\n",
      "       'bay area hip hop', 'trap', 'houston rap', 'classic rock', 'electro',\n",
      "       'old school hip hop', 'horrorcore', 'classical', 'adult standards',\n",
      "       'dirty texas rap', 'spanish hip hop', 'underground hip hop',\n",
      "       'detroit hip hop', 'deep g funk', 'trap queen', 'san diego rap',\n",
      "       'swedish death metal', 'pop r&b'],\n",
      "      dtype='object')\n",
      "---------------\n",
      "---------------\n",
      "East coast rap\n",
      "---------------\n",
      "Index(['harlem hip hop', 'alternative hip hop', 'boom bap', 'boston hip hop',\n",
      "       'underground rap', 'hardcore hip hop', 'battle rap',\n",
      "       'deep east coast hip hop', 'christian hip hop', 'east coast hip hop',\n",
      "       'christian trap', 'alternative metal', 'rap rock', 'death metal',\n",
      "       'technical death metal', 'cameroonian pop', 'spiritual hip hop',\n",
      "       'philly rap', 'deep underground hip hop', 'gospel rap',\n",
      "       'psychedelic doom', 'retro metal', 'azontobeats', 'conscious hip hop',\n",
      "       'makossa', 'bronx hip hop', 'pop rap', 'brutal death metal',\n",
      "       'brazilian death metal', 'rap metal'],\n",
      "      dtype='object')\n",
      "---------------\n",
      "---------------\n",
      "West coast rap\n",
      "---------------\n",
      "Index(['hyphy', 'west coast trap', 'west coast rap', 'oakland hip hop',\n",
      "       'gangster rap', 'g funk', 'cali rap', 'classical', 'christian hip hop',\n",
      "       'latin hip hop', 'early modern classical', 'christian trap', 'hip hop',\n",
      "       'chicano rap', 'sacramento hip hop', 'san diego rap', 'boom bap',\n",
      "       'rock', 'jam band', 'contemporary jazz', 'pop rap', 'folk rock',\n",
      "       'tin pan alley', 'deep flow', 'cosmic american', 'baroque', 'trap',\n",
      "       'rap', 'jazz fusion', 'indie soul'],\n",
      "      dtype='object')\n",
      "---------------\n",
      "---------------\n",
      "southern rap\n",
      "---------------\n",
      "Index(['dirty south rap', 'gangster rap', 'southern hip hop', 'rap', 'trap',\n",
      "       'pop rap', 'hip hop', 'houston rap', 'dirty texas rap', 'crunk',\n",
      "       'country rap', 'atl hip hop', 'redneck', 'new orleans rap',\n",
      "       'hardcore hip hop', 'atl trap', 'memphis hip hop',\n",
      "       'alternative hip hop', 'roots rock', 'outlaw country', 'hip pop',\n",
      "       'country rock', 'east coast hip hop', 'alternative country',\n",
      "       'underground hip hop', 'bounce', 'new americana', 'dance pop',\n",
      "       'tennessee hip hop', 'pop'],\n",
      "      dtype='object')\n",
      "---------------\n",
      "---------------\n",
      "trap\n",
      "---------------\n",
      "Index(['rap', 'trap', 'southern hip hop', 'underground hip hop', 'pop rap',\n",
      "       'electronic trap', 'vapor trap', 'hip hop', 'melodic rap',\n",
      "       'electro house', 'edm', 'glitchcore', 'pop dance', 'atl hip hop',\n",
      "       'turkish trap pop', 'electropop', 'bass trap', 'emo rap', 'dark trap',\n",
      "       'miami hip hop', 'vapor twitch', 'turkish hip hop', 'memphis hip hop',\n",
      "       'turkish trap', 'german cloud rap', 'hyperpop', 'florida rap',\n",
      "       'toronto rap', 'deep german hip hop', 'funk carioca'],\n",
      "      dtype='object')\n",
      "---------------\n",
      "---------------\n",
      "crunk\n",
      "---------------\n",
      "Index(['pop rap', 'southern hip hop', 'trap', 'rap', 'gangster rap',\n",
      "       'dirty south rap', 'hip hop', 'crunk', 'atl hip hop', 'dance pop',\n",
      "       'hip pop', 'memphis hip hop', 'polish hip hop', 'east coast hip hop',\n",
      "       'alternative hip hop', 'rap francais', 'electropowerpop', 'battle rap',\n",
      "       'pop', 'pop dance', 'french hip hop', 'hardcore hip hop', 'rap inde',\n",
      "       'new jersey rap', 'south african trap', 'houston rap',\n",
      "       'indiana hip hop', 'brooklyn drill', 'detroit trap',\n",
      "       'german underground rap'],\n",
      "      dtype='object')\n",
      "---------------\n",
      "---------------\n",
      "hyphy\n",
      "---------------\n",
      "Index(['hyphy', 'oakland hip hop', 'west coast trap', 'cali rap', 'rap',\n",
      "       'southern hip hop', 'west coast rap', 'gangster rap', 'hip hop', 'trap',\n",
      "       'pop rap', 'soft rock', 'pop rock', 'underground hip hop', 'roots rock',\n",
      "       'dance pop', 'rock', 'mellow gold', 'classic rock', 'folk rock',\n",
      "       'dirty south rap', 'album rock', 'hard rock', 'singer-songwriter',\n",
      "       'adult standards', 'atl hip hop', 'country rock', 'miami bass', 'prank',\n",
      "       'hardcore hip hop'],\n",
      "      dtype='object')\n"
     ]
    },
    {
     "data": {
      "application/javascript": [
       "\n",
       "            setTimeout(function() {\n",
       "                var nbb_cell_id = 32;\n",
       "                var nbb_unformatted_code = \"for t in sp_info[\\\"fm_tag\\\"].dropna().unique():\\n    a_ids = sp_info[sp_info[\\\"fm_tag\\\"] == t][\\\"sp_artist_id\\\"].values\\n    sub_df = sp_artist[sp_artist[\\\"artist_id\\\"].isin(a_ids)]\\n    print(\\\"---------------\\\")\\n    print(\\\"---------------\\\")\\n\\n    print(t)\\n    print(\\\"---------------\\\")\\n    print(top_genres(sub_df, 30))\";\n",
       "                var nbb_formatted_code = \"for t in sp_info[\\\"fm_tag\\\"].dropna().unique():\\n    a_ids = sp_info[sp_info[\\\"fm_tag\\\"] == t][\\\"sp_artist_id\\\"].values\\n    sub_df = sp_artist[sp_artist[\\\"artist_id\\\"].isin(a_ids)]\\n    print(\\\"---------------\\\")\\n    print(\\\"---------------\\\")\\n\\n    print(t)\\n    print(\\\"---------------\\\")\\n    print(top_genres(sub_df, 30))\";\n",
       "                var nbb_cells = Jupyter.notebook.get_cells();\n",
       "                for (var i = 0; i < nbb_cells.length; ++i) {\n",
       "                    if (nbb_cells[i].input_prompt_number == nbb_cell_id) {\n",
       "                        if (nbb_cells[i].get_text() == nbb_unformatted_code) {\n",
       "                             nbb_cells[i].set_text(nbb_formatted_code);\n",
       "                        }\n",
       "                        break;\n",
       "                    }\n",
       "                }\n",
       "            }, 500);\n",
       "            "
      ],
      "text/plain": [
       "<IPython.core.display.Javascript object>"
      ]
     },
     "metadata": {},
     "output_type": "display_data"
    }
   ],
   "source": [
    "for t in sp_info[\"fm_tag\"].dropna().unique():\n",
    "    a_ids = sp_info[sp_info[\"fm_tag\"] == t][\"sp_artist_id\"].values\n",
    "    sub_df = sp_artist[sp_artist[\"artist_id\"].isin(a_ids)]\n",
    "    print(\"---------------\")\n",
    "    print(\"---------------\")\n",
    "\n",
    "    print(t)\n",
    "    print(\"---------------\")\n",
    "    print(top_genres(sub_df, 30))"
   ]
  },
  {
   "cell_type": "code",
   "execution_count": 26,
   "metadata": {},
   "outputs": [
    {
     "data": {
      "text/html": [
       "<div>\n",
       "<style scoped>\n",
       "    .dataframe tbody tr th:only-of-type {\n",
       "        vertical-align: middle;\n",
       "    }\n",
       "\n",
       "    .dataframe tbody tr th {\n",
       "        vertical-align: top;\n",
       "    }\n",
       "\n",
       "    .dataframe thead th {\n",
       "        text-align: right;\n",
       "    }\n",
       "</style>\n",
       "<table border=\"1\" class=\"dataframe\">\n",
       "  <thead>\n",
       "    <tr style=\"text-align: right;\">\n",
       "      <th></th>\n",
       "      <th>artist</th>\n",
       "      <th>title</th>\n",
       "      <th>sp_title</th>\n",
       "      <th>sp_song_id</th>\n",
       "      <th>sp_artist</th>\n",
       "      <th>sp_artist_id</th>\n",
       "      <th>uuid</th>\n",
       "      <th>fm_tag</th>\n",
       "    </tr>\n",
       "  </thead>\n",
       "  <tbody>\n",
       "    <tr>\n",
       "      <th>0</th>\n",
       "      <td>Flash Giordani</td>\n",
       "      <td>Arctic Bandit</td>\n",
       "      <td>Arctic Bandit</td>\n",
       "      <td>0QE1NjeCyrAbYVVNwJDqsa</td>\n",
       "      <td>Flash Giordani</td>\n",
       "      <td>72p4Ib8eIBOJvaPYebydrf</td>\n",
       "      <td>0e6516af-b4d0-49de-b011-19e1803b8167</td>\n",
       "      <td>alternative rap</td>\n",
       "    </tr>\n",
       "    <tr>\n",
       "      <th>1</th>\n",
       "      <td>Flash Giordani</td>\n",
       "      <td>She Gone 2.0</td>\n",
       "      <td>SHE GONE 2.0 ( PROD. SCOTT $AUCE)</td>\n",
       "      <td>40cvs2pISPXxPdHizhD9aE</td>\n",
       "      <td>Flash Giordani</td>\n",
       "      <td>72p4Ib8eIBOJvaPYebydrf</td>\n",
       "      <td>4b16f18a-3466-42e2-b890-93c70c98150f</td>\n",
       "      <td>alternative rap</td>\n",
       "    </tr>\n",
       "    <tr>\n",
       "      <th>2</th>\n",
       "      <td>Flash Giordani</td>\n",
       "      <td>Remember</td>\n",
       "      <td>Still Remember</td>\n",
       "      <td>7F0yyjJczDZ67zXbRuACyt</td>\n",
       "      <td>Flash Giordani</td>\n",
       "      <td>72p4Ib8eIBOJvaPYebydrf</td>\n",
       "      <td>ce02634e-5f62-4359-a6a8-ded507a0fd32</td>\n",
       "      <td>alternative rap</td>\n",
       "    </tr>\n",
       "    <tr>\n",
       "      <th>3</th>\n",
       "      <td>Flash Giordani</td>\n",
       "      <td>Broken</td>\n",
       "      <td>Broken</td>\n",
       "      <td>75zyN5itdG74JQZ1oJJAB7</td>\n",
       "      <td>Flash Giordani</td>\n",
       "      <td>72p4Ib8eIBOJvaPYebydrf</td>\n",
       "      <td>9952d4d3-4e75-4d40-aadf-2c043b0a59f7</td>\n",
       "      <td>alternative rap</td>\n",
       "    </tr>\n",
       "    <tr>\n",
       "      <th>4</th>\n",
       "      <td>Flash Giordani</td>\n",
       "      <td>Boomerang</td>\n",
       "      <td>Boomerang</td>\n",
       "      <td>6iC7xc2uICXNSXrgT0ie7N</td>\n",
       "      <td>Flash Giordani</td>\n",
       "      <td>72p4Ib8eIBOJvaPYebydrf</td>\n",
       "      <td>b2200985-c6bd-466d-96a5-7d27f518e894</td>\n",
       "      <td>alternative rap</td>\n",
       "    </tr>\n",
       "    <tr>\n",
       "      <th>...</th>\n",
       "      <td>...</td>\n",
       "      <td>...</td>\n",
       "      <td>...</td>\n",
       "      <td>...</td>\n",
       "      <td>...</td>\n",
       "      <td>...</td>\n",
       "      <td>...</td>\n",
       "      <td>...</td>\n",
       "    </tr>\n",
       "    <tr>\n",
       "      <th>7328</th>\n",
       "      <td>Auvie Sinclair</td>\n",
       "      <td>20.20</td>\n",
       "      <td>20.20</td>\n",
       "      <td>2A5N87dLdImrSBjZ50rMp7</td>\n",
       "      <td>Auvie Sinclair</td>\n",
       "      <td>6ipXxf4hCYh1XJXPto9egc</td>\n",
       "      <td>e987f8be-4537-4d1d-9260-1de3c6317b54</td>\n",
       "      <td>conscious rap</td>\n",
       "    </tr>\n",
       "    <tr>\n",
       "      <th>7329</th>\n",
       "      <td>Auvie Sinclair</td>\n",
       "      <td>Tracers</td>\n",
       "      <td>Tracers</td>\n",
       "      <td>5Qrz2yiIek61N7AA3PuKlP</td>\n",
       "      <td>Auvie Sinclair</td>\n",
       "      <td>6ipXxf4hCYh1XJXPto9egc</td>\n",
       "      <td>bad915ca-0279-4571-b918-d1c66b26b6f5</td>\n",
       "      <td>conscious rap</td>\n",
       "    </tr>\n",
       "    <tr>\n",
       "      <th>7330</th>\n",
       "      <td>Auvie Sinclair</td>\n",
       "      <td>Buzzinng</td>\n",
       "      <td>Buzzinng</td>\n",
       "      <td>2uf0MuzPOat3nem2fOL71H</td>\n",
       "      <td>Auvie Sinclair</td>\n",
       "      <td>6ipXxf4hCYh1XJXPto9egc</td>\n",
       "      <td>f5111595-bcb9-4b8a-a468-749aa9304f93</td>\n",
       "      <td>conscious rap</td>\n",
       "    </tr>\n",
       "    <tr>\n",
       "      <th>7331</th>\n",
       "      <td>Auvie Sinclair</td>\n",
       "      <td>Shine</td>\n",
       "      <td>Shine</td>\n",
       "      <td>5jSU23HHpQHveXlOUu4tGc</td>\n",
       "      <td>Auvie Sinclair</td>\n",
       "      <td>6ipXxf4hCYh1XJXPto9egc</td>\n",
       "      <td>119aa87c-3c80-4bf8-afa4-23abbf937eec</td>\n",
       "      <td>conscious rap</td>\n",
       "    </tr>\n",
       "    <tr>\n",
       "      <th>7332</th>\n",
       "      <td>Auvie Sinclair</td>\n",
       "      <td>Exhale</td>\n",
       "      <td>Exhale</td>\n",
       "      <td>6bXm9OjptaAT4xJeJ7Tjns</td>\n",
       "      <td>Auvie Sinclair</td>\n",
       "      <td>6ipXxf4hCYh1XJXPto9egc</td>\n",
       "      <td>5b799564-9735-4f1c-9530-113dfcce0361</td>\n",
       "      <td>conscious rap</td>\n",
       "    </tr>\n",
       "  </tbody>\n",
       "</table>\n",
       "<p>4535 rows × 8 columns</p>\n",
       "</div>"
      ],
      "text/plain": [
       "              artist          title                           sp_title  \\\n",
       "0     Flash Giordani  Arctic Bandit                      Arctic Bandit   \n",
       "1     Flash Giordani   She Gone 2.0  SHE GONE 2.0 ( PROD. SCOTT $AUCE)   \n",
       "2     Flash Giordani       Remember                     Still Remember   \n",
       "3     Flash Giordani         Broken                             Broken   \n",
       "4     Flash Giordani      Boomerang                          Boomerang   \n",
       "...              ...            ...                                ...   \n",
       "7328  Auvie Sinclair          20.20                              20.20   \n",
       "7329  Auvie Sinclair        Tracers                            Tracers   \n",
       "7330  Auvie Sinclair       Buzzinng                           Buzzinng   \n",
       "7331  Auvie Sinclair          Shine                              Shine   \n",
       "7332  Auvie Sinclair         Exhale                             Exhale   \n",
       "\n",
       "                  sp_song_id       sp_artist            sp_artist_id  \\\n",
       "0     0QE1NjeCyrAbYVVNwJDqsa  Flash Giordani  72p4Ib8eIBOJvaPYebydrf   \n",
       "1     40cvs2pISPXxPdHizhD9aE  Flash Giordani  72p4Ib8eIBOJvaPYebydrf   \n",
       "2     7F0yyjJczDZ67zXbRuACyt  Flash Giordani  72p4Ib8eIBOJvaPYebydrf   \n",
       "3     75zyN5itdG74JQZ1oJJAB7  Flash Giordani  72p4Ib8eIBOJvaPYebydrf   \n",
       "4     6iC7xc2uICXNSXrgT0ie7N  Flash Giordani  72p4Ib8eIBOJvaPYebydrf   \n",
       "...                      ...             ...                     ...   \n",
       "7328  2A5N87dLdImrSBjZ50rMp7  Auvie Sinclair  6ipXxf4hCYh1XJXPto9egc   \n",
       "7329  5Qrz2yiIek61N7AA3PuKlP  Auvie Sinclair  6ipXxf4hCYh1XJXPto9egc   \n",
       "7330  2uf0MuzPOat3nem2fOL71H  Auvie Sinclair  6ipXxf4hCYh1XJXPto9egc   \n",
       "7331  5jSU23HHpQHveXlOUu4tGc  Auvie Sinclair  6ipXxf4hCYh1XJXPto9egc   \n",
       "7332  6bXm9OjptaAT4xJeJ7Tjns  Auvie Sinclair  6ipXxf4hCYh1XJXPto9egc   \n",
       "\n",
       "                                      uuid           fm_tag  \n",
       "0     0e6516af-b4d0-49de-b011-19e1803b8167  alternative rap  \n",
       "1     4b16f18a-3466-42e2-b890-93c70c98150f  alternative rap  \n",
       "2     ce02634e-5f62-4359-a6a8-ded507a0fd32  alternative rap  \n",
       "3     9952d4d3-4e75-4d40-aadf-2c043b0a59f7  alternative rap  \n",
       "4     b2200985-c6bd-466d-96a5-7d27f518e894  alternative rap  \n",
       "...                                    ...              ...  \n",
       "7328  e987f8be-4537-4d1d-9260-1de3c6317b54    conscious rap  \n",
       "7329  bad915ca-0279-4571-b918-d1c66b26b6f5    conscious rap  \n",
       "7330  f5111595-bcb9-4b8a-a468-749aa9304f93    conscious rap  \n",
       "7331  119aa87c-3c80-4bf8-afa4-23abbf937eec    conscious rap  \n",
       "7332  5b799564-9735-4f1c-9530-113dfcce0361    conscious rap  \n",
       "\n",
       "[4535 rows x 8 columns]"
      ]
     },
     "execution_count": 26,
     "metadata": {},
     "output_type": "execute_result"
    },
    {
     "data": {
      "application/javascript": [
       "\n",
       "            setTimeout(function() {\n",
       "                var nbb_cell_id = 26;\n",
       "                var nbb_unformatted_code = \"df[df['fm_tag'].isna()==False]\";\n",
       "                var nbb_formatted_code = \"df[df[\\\"fm_tag\\\"].isna() == False]\";\n",
       "                var nbb_cells = Jupyter.notebook.get_cells();\n",
       "                for (var i = 0; i < nbb_cells.length; ++i) {\n",
       "                    if (nbb_cells[i].input_prompt_number == nbb_cell_id) {\n",
       "                        if (nbb_cells[i].get_text() == nbb_unformatted_code) {\n",
       "                             nbb_cells[i].set_text(nbb_formatted_code);\n",
       "                        }\n",
       "                        break;\n",
       "                    }\n",
       "                }\n",
       "            }, 500);\n",
       "            "
      ],
      "text/plain": [
       "<IPython.core.display.Javascript object>"
      ]
     },
     "metadata": {},
     "output_type": "display_data"
    }
   ],
   "source": [
    "df[df['fm_tag'].isna()==False]\n"
   ]
  },
  {
   "cell_type": "code",
   "execution_count": null,
   "metadata": {},
   "outputs": [],
   "source": []
  }
 ],
 "metadata": {
  "kernelspec": {
   "display_name": "Python 3",
   "language": "python",
   "name": "python3"
  },
  "language_info": {
   "codemirror_mode": {
    "name": "ipython",
    "version": 3
   },
   "file_extension": ".py",
   "mimetype": "text/x-python",
   "name": "python",
   "nbconvert_exporter": "python",
   "pygments_lexer": "ipython3",
   "version": "3.8.5"
  }
 },
 "nbformat": 4,
 "nbformat_minor": 4
}
