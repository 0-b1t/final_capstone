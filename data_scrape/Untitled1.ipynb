{
 "cells": [
  {
   "cell_type": "code",
   "execution_count": 1,
   "metadata": {},
   "outputs": [
    {
     "data": {
      "application/javascript": [
       "\n",
       "            setTimeout(function() {\n",
       "                var nbb_cell_id = 1;\n",
       "                var nbb_unformatted_code = \"%reload_ext nb_black\";\n",
       "                var nbb_formatted_code = \"%reload_ext nb_black\";\n",
       "                var nbb_cells = Jupyter.notebook.get_cells();\n",
       "                for (var i = 0; i < nbb_cells.length; ++i) {\n",
       "                    if (nbb_cells[i].input_prompt_number == nbb_cell_id) {\n",
       "                        if (nbb_cells[i].get_text() == nbb_unformatted_code) {\n",
       "                             nbb_cells[i].set_text(nbb_formatted_code);\n",
       "                        }\n",
       "                        break;\n",
       "                    }\n",
       "                }\n",
       "            }, 500);\n",
       "            "
      ],
      "text/plain": [
       "<IPython.core.display.Javascript object>"
      ]
     },
     "metadata": {},
     "output_type": "display_data"
    }
   ],
   "source": [
    "%reload_ext nb_black"
   ]
  },
  {
   "cell_type": "code",
   "execution_count": 2,
   "metadata": {},
   "outputs": [
    {
     "data": {
      "application/javascript": [
       "\n",
       "            setTimeout(function() {\n",
       "                var nbb_cell_id = 2;\n",
       "                var nbb_unformatted_code = \"import pandas as pd\\nimport numpy as np\\nimport json\";\n",
       "                var nbb_formatted_code = \"import pandas as pd\\nimport numpy as np\\nimport json\";\n",
       "                var nbb_cells = Jupyter.notebook.get_cells();\n",
       "                for (var i = 0; i < nbb_cells.length; ++i) {\n",
       "                    if (nbb_cells[i].input_prompt_number == nbb_cell_id) {\n",
       "                        if (nbb_cells[i].get_text() == nbb_unformatted_code) {\n",
       "                             nbb_cells[i].set_text(nbb_formatted_code);\n",
       "                        }\n",
       "                        break;\n",
       "                    }\n",
       "                }\n",
       "            }, 500);\n",
       "            "
      ],
      "text/plain": [
       "<IPython.core.display.Javascript object>"
      ]
     },
     "metadata": {},
     "output_type": "display_data"
    }
   ],
   "source": [
    "import pandas as pd\n",
    "import numpy as np\n",
    "import json"
   ]
  },
  {
   "cell_type": "code",
   "execution_count": 3,
   "metadata": {},
   "outputs": [
    {
     "data": {
      "application/javascript": [
       "\n",
       "            setTimeout(function() {\n",
       "                var nbb_cell_id = 3;\n",
       "                var nbb_unformatted_code = \"tracks = pd.read_csv(\\\"../data/cleaned_english.csv\\\", index_col=0)\";\n",
       "                var nbb_formatted_code = \"tracks = pd.read_csv(\\\"../data/cleaned_english.csv\\\", index_col=0)\";\n",
       "                var nbb_cells = Jupyter.notebook.get_cells();\n",
       "                for (var i = 0; i < nbb_cells.length; ++i) {\n",
       "                    if (nbb_cells[i].input_prompt_number == nbb_cell_id) {\n",
       "                        if (nbb_cells[i].get_text() == nbb_unformatted_code) {\n",
       "                             nbb_cells[i].set_text(nbb_formatted_code);\n",
       "                        }\n",
       "                        break;\n",
       "                    }\n",
       "                }\n",
       "            }, 500);\n",
       "            "
      ],
      "text/plain": [
       "<IPython.core.display.Javascript object>"
      ]
     },
     "metadata": {},
     "output_type": "display_data"
    }
   ],
   "source": [
    "tracks = pd.read_csv(\"../data/cleaned_english.csv\", index_col=0)"
   ]
  },
  {
   "cell_type": "code",
   "execution_count": 4,
   "metadata": {},
   "outputs": [
    {
     "data": {
      "text/html": [
       "<div>\n",
       "<style scoped>\n",
       "    .dataframe tbody tr th:only-of-type {\n",
       "        vertical-align: middle;\n",
       "    }\n",
       "\n",
       "    .dataframe tbody tr th {\n",
       "        vertical-align: top;\n",
       "    }\n",
       "\n",
       "    .dataframe thead th {\n",
       "        text-align: right;\n",
       "    }\n",
       "</style>\n",
       "<table border=\"1\" class=\"dataframe\">\n",
       "  <thead>\n",
       "    <tr style=\"text-align: right;\">\n",
       "      <th></th>\n",
       "      <th>original</th>\n",
       "      <th>cleaned</th>\n",
       "      <th>lang</th>\n",
       "      <th>fm_tag</th>\n",
       "      <th>cleaned_2</th>\n",
       "    </tr>\n",
       "    <tr>\n",
       "      <th>id</th>\n",
       "      <th></th>\n",
       "      <th></th>\n",
       "      <th></th>\n",
       "      <th></th>\n",
       "      <th></th>\n",
       "    </tr>\n",
       "  </thead>\n",
       "  <tbody>\n",
       "    <tr>\n",
       "      <th>1oK6IuZqBqljKHS3bFNUg7</th>\n",
       "      <td>Puff puff pass and I'm in that\\nCircle with my...</td>\n",
       "      <td>puff puff pass circl boy roll weed zig zag lig...</td>\n",
       "      <td>en</td>\n",
       "      <td>conscious rap</td>\n",
       "      <td>puff puff pass circl boy roll weed zig zag lig...</td>\n",
       "    </tr>\n",
       "    <tr>\n",
       "      <th>1MSY5BfSg3wmtUFmtSBjs5</th>\n",
       "      <td>Yo, what's happenin Cold 187\\nYo man, you know...</td>\n",
       "      <td>yo happenin cold yo man know laid back studio ...</td>\n",
       "      <td>en</td>\n",
       "      <td>gangsta rap</td>\n",
       "      <td>yo happenin cold yo laid studio homi dre balli...</td>\n",
       "    </tr>\n",
       "    <tr>\n",
       "      <th>1AGjfwW4QoWFfhp1IA6wcE</th>\n",
       "      <td>Yeah man, ever since I was a kid like\\nPeople ...</td>\n",
       "      <td>yeah man ever sinc kid like peopl would ask fa...</td>\n",
       "      <td>en</td>\n",
       "      <td>conscious rap</td>\n",
       "      <td>kid peopl ask favorit color black alway yo che...</td>\n",
       "    </tr>\n",
       "    <tr>\n",
       "      <th>0FRENAN5snwnoRVJ6eDuFm</th>\n",
       "      <td>You coulda been mine but\\nYou coulda been mine...</td>\n",
       "      <td>coulda mine coulda mine coulda mine put line c...</td>\n",
       "      <td>en</td>\n",
       "      <td>alternative rap</td>\n",
       "      <td>coulda mine coulda mine coulda mine put line c...</td>\n",
       "    </tr>\n",
       "    <tr>\n",
       "      <th>3BUWNzPWz2mDbptZmGEXpB</th>\n",
       "      <td>Let it all work out, let it all work out\\nLet ...</td>\n",
       "      <td>let work let work let work let work let work l...</td>\n",
       "      <td>en</td>\n",
       "      <td>southern</td>\n",
       "      <td>work work work work work work work work work o...</td>\n",
       "    </tr>\n",
       "    <tr>\n",
       "      <th>...</th>\n",
       "      <td>...</td>\n",
       "      <td>...</td>\n",
       "      <td>...</td>\n",
       "      <td>...</td>\n",
       "      <td>...</td>\n",
       "    </tr>\n",
       "    <tr>\n",
       "      <th>0AN7KIF9qkbzk2p2tG7jPE</th>\n",
       "      <td>Yo...\\nDon't make me flip on you\\nActually you...</td>\n",
       "      <td>yo make flip actual ca make noth might decid u...</td>\n",
       "      <td>en</td>\n",
       "      <td>east coast</td>\n",
       "      <td>yo flip actual ca noth might decid use mush th...</td>\n",
       "    </tr>\n",
       "    <tr>\n",
       "      <th>4MrfYtNMl169SWUH8cJBli</th>\n",
       "      <td>Yeah, so how you feel right\\nSo how you feel r...</td>\n",
       "      <td>yeah feel right feel right uh yeah someth yo m...</td>\n",
       "      <td>en</td>\n",
       "      <td>west coast</td>\n",
       "      <td>feel right feel right uh someth yo mind better...</td>\n",
       "    </tr>\n",
       "    <tr>\n",
       "      <th>06R3hA4D1jyj8f8untfQNB</th>\n",
       "      <td>Th-th-th-think we found a loophole\\nA hunnid s...</td>\n",
       "      <td>found loophol hunnid shotta two oppa bet glock...</td>\n",
       "      <td>en</td>\n",
       "      <td>trap</td>\n",
       "      <td>found loophol hunnid shotta two oppa bet glock...</td>\n",
       "    </tr>\n",
       "    <tr>\n",
       "      <th>1IXFUiox0g7GZMd0qfVrWF</th>\n",
       "      <td>L.T., Uh, The nerve of this bitch\\n\\nA bitch m...</td>\n",
       "      <td>uh nerv bitch bitch main purpos servic mac ski...</td>\n",
       "      <td>en</td>\n",
       "      <td>gangsta rap</td>\n",
       "      <td>uh nerv main purpos servic mac skirt till feet...</td>\n",
       "    </tr>\n",
       "    <tr>\n",
       "      <th>5bDv490EvT3CR6mfF78xL5</th>\n",
       "      <td>In the kitchen whipping up the cocaina\\nPull u...</td>\n",
       "      <td>kitchen whip cocaina pull chick vroom vroom se...</td>\n",
       "      <td>en</td>\n",
       "      <td>trap</td>\n",
       "      <td>kitchen whip cocaina pull chick vroom vroom se...</td>\n",
       "    </tr>\n",
       "  </tbody>\n",
       "</table>\n",
       "<p>4300 rows × 5 columns</p>\n",
       "</div>"
      ],
      "text/plain": [
       "                                                                 original  \\\n",
       "id                                                                          \n",
       "1oK6IuZqBqljKHS3bFNUg7  Puff puff pass and I'm in that\\nCircle with my...   \n",
       "1MSY5BfSg3wmtUFmtSBjs5  Yo, what's happenin Cold 187\\nYo man, you know...   \n",
       "1AGjfwW4QoWFfhp1IA6wcE  Yeah man, ever since I was a kid like\\nPeople ...   \n",
       "0FRENAN5snwnoRVJ6eDuFm  You coulda been mine but\\nYou coulda been mine...   \n",
       "3BUWNzPWz2mDbptZmGEXpB  Let it all work out, let it all work out\\nLet ...   \n",
       "...                                                                   ...   \n",
       "0AN7KIF9qkbzk2p2tG7jPE  Yo...\\nDon't make me flip on you\\nActually you...   \n",
       "4MrfYtNMl169SWUH8cJBli  Yeah, so how you feel right\\nSo how you feel r...   \n",
       "06R3hA4D1jyj8f8untfQNB  Th-th-th-think we found a loophole\\nA hunnid s...   \n",
       "1IXFUiox0g7GZMd0qfVrWF  L.T., Uh, The nerve of this bitch\\n\\nA bitch m...   \n",
       "5bDv490EvT3CR6mfF78xL5  In the kitchen whipping up the cocaina\\nPull u...   \n",
       "\n",
       "                                                                  cleaned  \\\n",
       "id                                                                          \n",
       "1oK6IuZqBqljKHS3bFNUg7  puff puff pass circl boy roll weed zig zag lig...   \n",
       "1MSY5BfSg3wmtUFmtSBjs5  yo happenin cold yo man know laid back studio ...   \n",
       "1AGjfwW4QoWFfhp1IA6wcE  yeah man ever sinc kid like peopl would ask fa...   \n",
       "0FRENAN5snwnoRVJ6eDuFm  coulda mine coulda mine coulda mine put line c...   \n",
       "3BUWNzPWz2mDbptZmGEXpB  let work let work let work let work let work l...   \n",
       "...                                                                   ...   \n",
       "0AN7KIF9qkbzk2p2tG7jPE  yo make flip actual ca make noth might decid u...   \n",
       "4MrfYtNMl169SWUH8cJBli  yeah feel right feel right uh yeah someth yo m...   \n",
       "06R3hA4D1jyj8f8untfQNB  found loophol hunnid shotta two oppa bet glock...   \n",
       "1IXFUiox0g7GZMd0qfVrWF  uh nerv bitch bitch main purpos servic mac ski...   \n",
       "5bDv490EvT3CR6mfF78xL5  kitchen whip cocaina pull chick vroom vroom se...   \n",
       "\n",
       "                       lang           fm_tag  \\\n",
       "id                                             \n",
       "1oK6IuZqBqljKHS3bFNUg7   en    conscious rap   \n",
       "1MSY5BfSg3wmtUFmtSBjs5   en      gangsta rap   \n",
       "1AGjfwW4QoWFfhp1IA6wcE   en    conscious rap   \n",
       "0FRENAN5snwnoRVJ6eDuFm   en  alternative rap   \n",
       "3BUWNzPWz2mDbptZmGEXpB   en         southern   \n",
       "...                     ...              ...   \n",
       "0AN7KIF9qkbzk2p2tG7jPE   en       east coast   \n",
       "4MrfYtNMl169SWUH8cJBli   en       west coast   \n",
       "06R3hA4D1jyj8f8untfQNB   en             trap   \n",
       "1IXFUiox0g7GZMd0qfVrWF   en      gangsta rap   \n",
       "5bDv490EvT3CR6mfF78xL5   en             trap   \n",
       "\n",
       "                                                                cleaned_2  \n",
       "id                                                                         \n",
       "1oK6IuZqBqljKHS3bFNUg7  puff puff pass circl boy roll weed zig zag lig...  \n",
       "1MSY5BfSg3wmtUFmtSBjs5  yo happenin cold yo laid studio homi dre balli...  \n",
       "1AGjfwW4QoWFfhp1IA6wcE  kid peopl ask favorit color black alway yo che...  \n",
       "0FRENAN5snwnoRVJ6eDuFm  coulda mine coulda mine coulda mine put line c...  \n",
       "3BUWNzPWz2mDbptZmGEXpB  work work work work work work work work work o...  \n",
       "...                                                                   ...  \n",
       "0AN7KIF9qkbzk2p2tG7jPE  yo flip actual ca noth might decid use mush th...  \n",
       "4MrfYtNMl169SWUH8cJBli  feel right feel right uh someth yo mind better...  \n",
       "06R3hA4D1jyj8f8untfQNB  found loophol hunnid shotta two oppa bet glock...  \n",
       "1IXFUiox0g7GZMd0qfVrWF  uh nerv main purpos servic mac skirt till feet...  \n",
       "5bDv490EvT3CR6mfF78xL5  kitchen whip cocaina pull chick vroom vroom se...  \n",
       "\n",
       "[4300 rows x 5 columns]"
      ]
     },
     "execution_count": 4,
     "metadata": {},
     "output_type": "execute_result"
    },
    {
     "data": {
      "application/javascript": [
       "\n",
       "            setTimeout(function() {\n",
       "                var nbb_cell_id = 4;\n",
       "                var nbb_unformatted_code = \"tracks\";\n",
       "                var nbb_formatted_code = \"tracks\";\n",
       "                var nbb_cells = Jupyter.notebook.get_cells();\n",
       "                for (var i = 0; i < nbb_cells.length; ++i) {\n",
       "                    if (nbb_cells[i].input_prompt_number == nbb_cell_id) {\n",
       "                        if (nbb_cells[i].get_text() == nbb_unformatted_code) {\n",
       "                             nbb_cells[i].set_text(nbb_formatted_code);\n",
       "                        }\n",
       "                        break;\n",
       "                    }\n",
       "                }\n",
       "            }, 500);\n",
       "            "
      ],
      "text/plain": [
       "<IPython.core.display.Javascript object>"
      ]
     },
     "metadata": {},
     "output_type": "display_data"
    }
   ],
   "source": [
    "tracks"
   ]
  },
  {
   "cell_type": "code",
   "execution_count": 5,
   "metadata": {
    "scrolled": true
   },
   "outputs": [
    {
     "name": "stdout",
     "output_type": "stream",
     "text": [
      "50\n",
      "100\n",
      "150\n",
      "200\n",
      "250\n",
      "300\n",
      "350\n",
      "400\n",
      "450\n",
      "500\n",
      "550\n",
      "600\n",
      "650\n",
      "700\n",
      "750\n",
      "800\n",
      "850\n",
      "900\n",
      "950\n",
      "1000\n",
      "1050\n",
      "1100\n",
      "1150\n",
      "1200\n",
      "1250\n",
      "1300\n",
      "1350\n",
      "1400\n",
      "1450\n",
      "1500\n",
      "1550\n",
      "1600\n",
      "1650\n",
      "1700\n",
      "1750\n",
      "1800\n",
      "1850\n",
      "1900\n",
      "1950\n",
      "2000\n",
      "2050\n",
      "2100\n",
      "2150\n",
      "2200\n",
      "2250\n",
      "2300\n",
      "2350\n",
      "2400\n",
      "2450\n",
      "2500\n",
      "2550\n",
      "2600\n",
      "2650\n",
      "2700\n",
      "2750\n",
      "2800\n",
      "2850\n",
      "2900\n",
      "2950\n",
      "3000\n",
      "3050\n",
      "3100\n",
      "3150\n",
      "3200\n",
      "3250\n",
      "3300\n",
      "3350\n",
      "3400\n",
      "3450\n",
      "3500\n",
      "3550\n",
      "3600\n",
      "3650\n",
      "3700\n",
      "3750\n",
      "3800\n",
      "3850\n",
      "3900\n",
      "3950\n",
      "4000\n",
      "4050\n",
      "4100\n",
      "4150\n",
      "4200\n",
      "4250\n",
      "4300\n"
     ]
    },
    {
     "data": {
      "application/javascript": [
       "\n",
       "            setTimeout(function() {\n",
       "                var nbb_cell_id = 5;\n",
       "                var nbb_unformatted_code = \"songs = []\\nload_bar=50\\ncount = 0\\nfor t in tracks.index:\\n#     t = tracks.loc[i,'id']\\n    with open(f\\\"../data/analysis_jsons/{t}.json\\\", \\\"r\\\") as f:\\n        t_json = json.load(f)\\n    song_timbres = [x['timbre'] for x in t_json['segments']]\\n    songs.append(song_timbres)\\n    count+=1\\n    if count%load_bar==0:\\n        print((count//load_bar)*load_bar)\";\n",
       "                var nbb_formatted_code = \"songs = []\\nload_bar = 50\\ncount = 0\\nfor t in tracks.index:\\n    #     t = tracks.loc[i,'id']\\n    with open(f\\\"../data/analysis_jsons/{t}.json\\\", \\\"r\\\") as f:\\n        t_json = json.load(f)\\n    song_timbres = [x[\\\"timbre\\\"] for x in t_json[\\\"segments\\\"]]\\n    songs.append(song_timbres)\\n    count += 1\\n    if count % load_bar == 0:\\n        print((count // load_bar) * load_bar)\";\n",
       "                var nbb_cells = Jupyter.notebook.get_cells();\n",
       "                for (var i = 0; i < nbb_cells.length; ++i) {\n",
       "                    if (nbb_cells[i].input_prompt_number == nbb_cell_id) {\n",
       "                        if (nbb_cells[i].get_text() == nbb_unformatted_code) {\n",
       "                             nbb_cells[i].set_text(nbb_formatted_code);\n",
       "                        }\n",
       "                        break;\n",
       "                    }\n",
       "                }\n",
       "            }, 500);\n",
       "            "
      ],
      "text/plain": [
       "<IPython.core.display.Javascript object>"
      ]
     },
     "metadata": {},
     "output_type": "display_data"
    }
   ],
   "source": [
    "songs = []\n",
    "load_bar = 50\n",
    "count = 0\n",
    "for t in tracks.index:\n",
    "    #     t = tracks.loc[i,'id']\n",
    "    with open(f\"../data/analysis_jsons/{t}.json\", \"r\") as f:\n",
    "        t_json = json.load(f)\n",
    "    song_timbres = [x[\"timbre\"] for x in t_json[\"segments\"]]\n",
    "    songs.append(song_timbres)\n",
    "    count += 1\n",
    "    if count % load_bar == 0:\n",
    "        print((count // load_bar) * load_bar)"
   ]
  },
  {
   "cell_type": "code",
   "execution_count": 6,
   "metadata": {},
   "outputs": [
    {
     "data": {
      "application/javascript": [
       "\n",
       "            setTimeout(function() {\n",
       "                var nbb_cell_id = 6;\n",
       "                var nbb_unformatted_code = \"song_series = pd.Series(songs, index=tracks.index)\";\n",
       "                var nbb_formatted_code = \"song_series = pd.Series(songs, index=tracks.index)\";\n",
       "                var nbb_cells = Jupyter.notebook.get_cells();\n",
       "                for (var i = 0; i < nbb_cells.length; ++i) {\n",
       "                    if (nbb_cells[i].input_prompt_number == nbb_cell_id) {\n",
       "                        if (nbb_cells[i].get_text() == nbb_unformatted_code) {\n",
       "                             nbb_cells[i].set_text(nbb_formatted_code);\n",
       "                        }\n",
       "                        break;\n",
       "                    }\n",
       "                }\n",
       "            }, 500);\n",
       "            "
      ],
      "text/plain": [
       "<IPython.core.display.Javascript object>"
      ]
     },
     "metadata": {},
     "output_type": "display_data"
    }
   ],
   "source": [
    "song_series = pd.Series(songs, index=tracks.index)"
   ]
  },
  {
   "cell_type": "code",
   "execution_count": 16,
   "metadata": {},
   "outputs": [
    {
     "data": {
      "text/plain": [
       "id\n",
       "1oK6IuZqBqljKHS3bFNUg7    [[18.381, -76.301, 100.896, 9.094, 104.947, -2...\n",
       "1MSY5BfSg3wmtUFmtSBjs5    [[0.0, 171.13, 9.469, -28.48, 57.491, -50.067,...\n",
       "1AGjfwW4QoWFfhp1IA6wcE    [[0.616, 157.206, -6.881, -44.898, 46.669, -49...\n",
       "0FRENAN5snwnoRVJ6eDuFm    [[0.0, 171.13, 9.469, -28.48, 57.491, -50.067,...\n",
       "3BUWNzPWz2mDbptZmGEXpB    [[40.194, 0.586, 29.968, 10.403, 64.917, 124.7...\n",
       "                                                ...                        \n",
       "0AN7KIF9qkbzk2p2tG7jPE    [[1.055, 145.409, -1.162, -27.869, 70.34, -44....\n",
       "4MrfYtNMl169SWUH8cJBli    [[1.159, 160.835, 27.219, -58.011, 55.106, -64...\n",
       "06R3hA4D1jyj8f8untfQNB    [[0.163, 170.118, 14.452, -31.749, 56.912, -52...\n",
       "1IXFUiox0g7GZMd0qfVrWF    [[0.83, 169.688, 4.883, -50.466, 48.731, -54.1...\n",
       "5bDv490EvT3CR6mfF78xL5    [[14.948, 192.931, 140.522, 158.072, -21.11, -...\n",
       "Length: 4300, dtype: object"
      ]
     },
     "execution_count": 16,
     "metadata": {},
     "output_type": "execute_result"
    },
    {
     "data": {
      "application/javascript": [
       "\n",
       "            setTimeout(function() {\n",
       "                var nbb_cell_id = 16;\n",
       "                var nbb_unformatted_code = \"song_series\";\n",
       "                var nbb_formatted_code = \"song_series\";\n",
       "                var nbb_cells = Jupyter.notebook.get_cells();\n",
       "                for (var i = 0; i < nbb_cells.length; ++i) {\n",
       "                    if (nbb_cells[i].input_prompt_number == nbb_cell_id) {\n",
       "                        if (nbb_cells[i].get_text() == nbb_unformatted_code) {\n",
       "                             nbb_cells[i].set_text(nbb_formatted_code);\n",
       "                        }\n",
       "                        break;\n",
       "                    }\n",
       "                }\n",
       "            }, 500);\n",
       "            "
      ],
      "text/plain": [
       "<IPython.core.display.Javascript object>"
      ]
     },
     "metadata": {},
     "output_type": "display_data"
    }
   ],
   "source": [
    "song_series"
   ]
  },
  {
   "cell_type": "code",
   "execution_count": 7,
   "metadata": {},
   "outputs": [
    {
     "data": {
      "application/javascript": [
       "\n",
       "            setTimeout(function() {\n",
       "                var nbb_cell_id = 7;\n",
       "                var nbb_unformatted_code = \"sequence_lengths = []\\nfor s in songs:\\n    sequence_lengths.append(len(s))\\nsequ = pd.Series(sequence_lengths, index=tracks.index)\";\n",
       "                var nbb_formatted_code = \"sequence_lengths = []\\nfor s in songs:\\n    sequence_lengths.append(len(s))\\nsequ = pd.Series(sequence_lengths, index=tracks.index)\";\n",
       "                var nbb_cells = Jupyter.notebook.get_cells();\n",
       "                for (var i = 0; i < nbb_cells.length; ++i) {\n",
       "                    if (nbb_cells[i].input_prompt_number == nbb_cell_id) {\n",
       "                        if (nbb_cells[i].get_text() == nbb_unformatted_code) {\n",
       "                             nbb_cells[i].set_text(nbb_formatted_code);\n",
       "                        }\n",
       "                        break;\n",
       "                    }\n",
       "                }\n",
       "            }, 500);\n",
       "            "
      ],
      "text/plain": [
       "<IPython.core.display.Javascript object>"
      ]
     },
     "metadata": {},
     "output_type": "display_data"
    }
   ],
   "source": [
    "sequence_lengths = []\n",
    "for s in songs:\n",
    "    sequence_lengths.append(len(s))\n",
    "sequ = pd.Series(sequence_lengths, index=tracks.index)"
   ]
  },
  {
   "cell_type": "code",
   "execution_count": 13,
   "metadata": {},
   "outputs": [
    {
     "data": {
      "text/plain": [
       "id\n",
       "1oK6IuZqBqljKHS3bFNUg7     742\n",
       "1MSY5BfSg3wmtUFmtSBjs5    1192\n",
       "1AGjfwW4QoWFfhp1IA6wcE     453\n",
       "0FRENAN5snwnoRVJ6eDuFm    1096\n",
       "3BUWNzPWz2mDbptZmGEXpB    1247\n",
       "                          ... \n",
       "0AN7KIF9qkbzk2p2tG7jPE     950\n",
       "4MrfYtNMl169SWUH8cJBli     702\n",
       "06R3hA4D1jyj8f8untfQNB     624\n",
       "1IXFUiox0g7GZMd0qfVrWF    1307\n",
       "5bDv490EvT3CR6mfF78xL5     730\n",
       "Length: 4298, dtype: int64"
      ]
     },
     "execution_count": 13,
     "metadata": {},
     "output_type": "execute_result"
    },
    {
     "data": {
      "application/javascript": [
       "\n",
       "            setTimeout(function() {\n",
       "                var nbb_cell_id = 13;\n",
       "                var nbb_unformatted_code = \"keep_ids = sequ[sequ < 4000]\\nkeep_ids\";\n",
       "                var nbb_formatted_code = \"keep_ids = sequ[sequ < 4000]\\nkeep_ids\";\n",
       "                var nbb_cells = Jupyter.notebook.get_cells();\n",
       "                for (var i = 0; i < nbb_cells.length; ++i) {\n",
       "                    if (nbb_cells[i].input_prompt_number == nbb_cell_id) {\n",
       "                        if (nbb_cells[i].get_text() == nbb_unformatted_code) {\n",
       "                             nbb_cells[i].set_text(nbb_formatted_code);\n",
       "                        }\n",
       "                        break;\n",
       "                    }\n",
       "                }\n",
       "            }, 500);\n",
       "            "
      ],
      "text/plain": [
       "<IPython.core.display.Javascript object>"
      ]
     },
     "metadata": {},
     "output_type": "display_data"
    }
   ],
   "source": [
    "keep_ids = sequ[sequ < 4000]\n",
    "keep_ids"
   ]
  },
  {
   "cell_type": "code",
   "execution_count": 21,
   "metadata": {},
   "outputs": [
    {
     "data": {
      "application/javascript": [
       "\n",
       "            setTimeout(function() {\n",
       "                var nbb_cell_id = 21;\n",
       "                var nbb_unformatted_code = \"song_series=song_series[keep_ids]\";\n",
       "                var nbb_formatted_code = \"song_series = song_series[keep_ids]\";\n",
       "                var nbb_cells = Jupyter.notebook.get_cells();\n",
       "                for (var i = 0; i < nbb_cells.length; ++i) {\n",
       "                    if (nbb_cells[i].input_prompt_number == nbb_cell_id) {\n",
       "                        if (nbb_cells[i].get_text() == nbb_unformatted_code) {\n",
       "                             nbb_cells[i].set_text(nbb_formatted_code);\n",
       "                        }\n",
       "                        break;\n",
       "                    }\n",
       "                }\n",
       "            }, 500);\n",
       "            "
      ],
      "text/plain": [
       "<IPython.core.display.Javascript object>"
      ]
     },
     "metadata": {},
     "output_type": "display_data"
    }
   ],
   "source": [
    "song_series = song_series[keep_ids]"
   ]
  },
  {
   "cell_type": "code",
   "execution_count": 22,
   "metadata": {},
   "outputs": [
    {
     "data": {
      "application/javascript": [
       "\n",
       "            setTimeout(function() {\n",
       "                var nbb_cell_id = 22;\n",
       "                var nbb_unformatted_code = \"song_series.to_csv(\\\"../data/song_sequences.csv\\\")\";\n",
       "                var nbb_formatted_code = \"song_series.to_csv(\\\"../data/song_sequences.csv\\\")\";\n",
       "                var nbb_cells = Jupyter.notebook.get_cells();\n",
       "                for (var i = 0; i < nbb_cells.length; ++i) {\n",
       "                    if (nbb_cells[i].input_prompt_number == nbb_cell_id) {\n",
       "                        if (nbb_cells[i].get_text() == nbb_unformatted_code) {\n",
       "                             nbb_cells[i].set_text(nbb_formatted_code);\n",
       "                        }\n",
       "                        break;\n",
       "                    }\n",
       "                }\n",
       "            }, 500);\n",
       "            "
      ],
      "text/plain": [
       "<IPython.core.display.Javascript object>"
      ]
     },
     "metadata": {},
     "output_type": "display_data"
    }
   ],
   "source": [
    "song_series.to_csv(\"../data/song_sequences.csv\")"
   ]
  },
  {
   "cell_type": "code",
   "execution_count": 8,
   "metadata": {
    "scrolled": true
   },
   "outputs": [
    {
     "data": {
      "text/plain": [
       "id\n",
       "3lZ5reS0bAq9REusvBOeql    5243\n",
       "1d5w7OB73KUakqTkMe6x89    4802\n",
       "09ru6b5aOnd5zMipuRJQ8i    2848\n",
       "7rLRanPBhM6Hejjm1pJgye    2798\n",
       "3J3tQYj6KpWHK75dtXjQEj    2357\n",
       "69zdwVJe3HidP5RYwr6QLJ    2306\n",
       "11R2oenWlJJXKKyXV9Kc2c    2200\n",
       "1CNC9ZUoR4OhkaPhNLO1wp    2186\n",
       "1SNiieXNyv5bRBbY9YAYVM    2182\n",
       "6GBWn0KBnoyY4UHlzDJLkQ    2113\n",
       "233X7wPByXKxkBKoOukDIb    2080\n",
       "3v9lfE23zw2lDrMA2jdVk0    2033\n",
       "6lXGIJbyM4YBjK6CzIce25    2030\n",
       "3DK6m7It6Pw857FcQftMds    1996\n",
       "4EndPA8b6FDWYp1RgsnLEB    1991\n",
       "4DNx9ciDGYUmSExFdiuCS3    1970\n",
       "7ltuaSvaJtvKQYamph2q1P    1955\n",
       "2qgvXVuSazBd1OqbiVrJUq    1945\n",
       "5PbfITwfSi85huqkmKXkel    1942\n",
       "66v2nKQGk9a2DhcazlHJ0z    1927\n",
       "2hSsvrAGiPmkGXnR7KkvHs    1916\n",
       "0BrmvkYAXhMb4k8o0hB0xl    1857\n",
       "77tF8KUZbMVrNFCauV8U60    1842\n",
       "2xm6APu6l1ncgeuLFrAmak    1835\n",
       "51vZSEZwuwVMa6bXQ1XuSz    1834\n",
       "2C1go9mKlAldzI1luo5oD0    1815\n",
       "1hJtNms8jQNDm1Cx9k2UR4    1813\n",
       "7JHQBhTE4bgvqjIdRE33H0    1805\n",
       "0WjoA3AoG0PhjXsgzvQGlH    1792\n",
       "1ZHYJ2Wwgxes4m8Ba88PeK    1788\n",
       "7tdURh5iyPGterv1OnDW6C    1786\n",
       "2IewFkggNGqx2i2m0aNgQE    1785\n",
       "2YviN5Mff01e40StdnktBm    1783\n",
       "3rPBPmOkA68FLIPP1k4CsE    1781\n",
       "5DQZ2YIlqCSvgOfC1qA1Nq    1778\n",
       "3AwUQR03uMPpXktV2f7u0C    1778\n",
       "1gUakci7HwPcImtp0i79N3    1772\n",
       "5QYrP1OhJiujNS8Dmngc5b    1771\n",
       "5LBoiIPvgirvBi37QFSNem    1765\n",
       "1zWoWraZ5ZVn5nY8rMtEQ6    1765\n",
       "6DsnJJQXqnekL3XwpX2eZf    1761\n",
       "6K07Ahf6V7CAQn0ikrOztl    1755\n",
       "6kpiwAM3vWN9UbGAQw2v8q    1746\n",
       "5HucPKRTdFUOHI5ffgIhTh    1724\n",
       "1jxup8VdSJqVLaKDhLayLe    1721\n",
       "4LdvSdTI3jgckR09MHOLmq    1719\n",
       "3QyDOplEcdGne7EoaexXyC    1719\n",
       "5wwCNQPXGkXN71j38W3ujG    1713\n",
       "394z8B6HlnaabwLLKk6Y8A    1713\n",
       "17ZAxEyoPOVqVJmVxf4p63    1711\n",
       "dtype: int64"
      ]
     },
     "execution_count": 8,
     "metadata": {},
     "output_type": "execute_result"
    },
    {
     "data": {
      "application/javascript": [
       "\n",
       "            setTimeout(function() {\n",
       "                var nbb_cell_id = 8;\n",
       "                var nbb_unformatted_code = \"sequ.sort_values(ascending=False)[:50]\";\n",
       "                var nbb_formatted_code = \"sequ.sort_values(ascending=False)[:50]\";\n",
       "                var nbb_cells = Jupyter.notebook.get_cells();\n",
       "                for (var i = 0; i < nbb_cells.length; ++i) {\n",
       "                    if (nbb_cells[i].input_prompt_number == nbb_cell_id) {\n",
       "                        if (nbb_cells[i].get_text() == nbb_unformatted_code) {\n",
       "                             nbb_cells[i].set_text(nbb_formatted_code);\n",
       "                        }\n",
       "                        break;\n",
       "                    }\n",
       "                }\n",
       "            }, 500);\n",
       "            "
      ],
      "text/plain": [
       "<IPython.core.display.Javascript object>"
      ]
     },
     "metadata": {},
     "output_type": "display_data"
    }
   ],
   "source": [
    "sequ.sort_values(ascending=False)[:50]"
   ]
  }
 ],
 "metadata": {
  "kernelspec": {
   "display_name": "Python 3",
   "language": "python",
   "name": "python3"
  },
  "language_info": {
   "codemirror_mode": {
    "name": "ipython",
    "version": 3
   },
   "file_extension": ".py",
   "mimetype": "text/x-python",
   "name": "python",
   "nbconvert_exporter": "python",
   "pygments_lexer": "ipython3",
   "version": "3.8.5"
  }
 },
 "nbformat": 4,
 "nbformat_minor": 4
}
